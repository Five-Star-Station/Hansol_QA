{
 "cells": [
  {
   "cell_type": "code",
   "execution_count": 19,
   "id": "4feb2bc6",
   "metadata": {},
   "outputs": [],
   "source": [
    "from dotenv import load_dotenv\n",
    "import os\n",
    "\n",
    "# .env 파일 로드\n",
    "load_dotenv()\n",
    "\n",
    "# 환경 변수 사용\n",
    "SOLAR_API_KEY = os.getenv('SOLAR_API_KEY')\n",
    "GROQ_API_KEY = os.getenv('GROQ_API_KEY')\n",
    "GPT_API_KEY = os.getenv('GPT_API_KEY')\n",
    "os.environ[\"GOOGLE_API_KEY\"] = os.getenv('GEMINI_API_KEY')"
   ]
  },
  {
   "cell_type": "code",
   "execution_count": 20,
   "id": "52ca69b4",
   "metadata": {},
   "outputs": [],
   "source": [
    "from openai import OpenAI # openai==1.2.0\n",
    "from groq import Groq"
   ]
  },
  {
   "cell_type": "code",
   "execution_count": 21,
   "id": "afc12d0b",
   "metadata": {},
   "outputs": [],
   "source": [
    "def get_solar_completion(input_text, system_prompt):\n",
    "    client = OpenAI(\n",
    "        api_key=SOLAR_API_KEY,\n",
    "        base_url=\"https://api.upstage.ai/v1/solar\"\n",
    "    )\n",
    "\n",
    "    stream = client.chat.completions.create(\n",
    "        model=\"solar-1-mini-chat\",\n",
    "        messages=[\n",
    "          {\n",
    "            \"role\": \"system\",\n",
    "            \"content\": system_prompt\n",
    "          },\n",
    "          {\n",
    "            \"role\": \"user\",\n",
    "            \"content\": input_text\n",
    "          }\n",
    "        ],\n",
    "        stream=False,\n",
    "    )\n",
    "    return stream.choices[0].message.content,"
   ]
  },
  {
   "cell_type": "code",
   "execution_count": 23,
   "id": "8b85dcea",
   "metadata": {},
   "outputs": [],
   "source": [
    "def get_groq_completion(input_text, system_prompt, model=\"mixtral-8x7b-32768\"):\n",
    "    client = Groq(\n",
    "        api_key=GROQ_API_KEY,\n",
    "    )\n",
    "\n",
    "    chat_completion = client.chat.completions.create(\n",
    "        messages=[\n",
    "            {\n",
    "                \"role\": \"system\",\n",
    "                \"content\": system_prompt\n",
    "            },\n",
    "            {\n",
    "                \"role\": \"user\",\n",
    "                \"content\": input_text,\n",
    "            }\n",
    "        ],\n",
    "        model=model,\n",
    "    )\n",
    "    return chat_completion.choices[0].message.content, "
   ]
  },
  {
   "cell_type": "code",
   "execution_count": 24,
   "id": "48cbb23a",
   "metadata": {},
   "outputs": [],
   "source": [
    "from langchain_google_genai import ChatGoogleGenerativeAI\n",
    "from langchain_core.messages import HumanMessage, SystemMessage\n",
    "\n",
    "def get_gemini_completion(input_text, system_prompt):\n",
    "    model = ChatGoogleGenerativeAI(model=\"gemini-pro\", convert_system_message_to_human=True, )\n",
    "    message = model(\n",
    "        [\n",
    "            SystemMessage(content=system_prompt),\n",
    "            HumanMessage(content=input_text),\n",
    "        ]\n",
    "    )\n",
    "    return message.content"
   ]
  },
  {
   "cell_type": "code",
   "execution_count": 25,
   "id": "53e19469",
   "metadata": {},
   "outputs": [],
   "source": [
    "def get_gpt_completion(input_text, system_prompt):\n",
    "    client = OpenAI(api_key=GPT_API_KEY)\n",
    "\n",
    "    completion = client.chat.completions.create(\n",
    "      model=\"gpt-3.5-turbo-0125\", # gpt-4-0125-preview, gpt-3.5-turbo-0125\n",
    "      messages=[\n",
    "        {\"role\": \"system\", \"content\": system_prompt},\n",
    "        {\"role\": \"user\", \"content\": input_text}\n",
    "      ]\n",
    "    )\n",
    "    return completion.choices[0].message"
   ]
  },
  {
   "cell_type": "code",
   "execution_count": 26,
   "id": "60e015f0",
   "metadata": {},
   "outputs": [],
   "source": [
    "def get_completion(input_text, system_prompt):\n",
    "    solar_completion = get_solar_completion(input_text, system_prompt)\n",
    "    mixtral_groq_completion = get_groq_completion(input_text, system_prompt, model=\"mixtral-8x7b-32768\")\n",
    "    llama2_groq_completion = get_groq_completion(input_text, system_prompt, model=\"llama2-70b-4096\")\n",
    "    gemini_completion = get_gemini_completion(input_text, system_prompt)\n",
    "    #gpt_completion = get_gpt_completion(input_text, system_prompt)\n",
    "    \n",
    "    messages = [\n",
    "        solar_completion,\n",
    "        mixtral_groq_completion,\n",
    "        llama2_groq_completion,\n",
    "        gemini_completion,\n",
    "        #gpt_completion\n",
    "    ]\n",
    "\n",
    "    return messages"
   ]
  },
  {
   "cell_type": "code",
   "execution_count": 27,
   "id": "959db43b",
   "metadata": {},
   "outputs": [],
   "source": [
    "system_prompt = \"You are a helpful assistant.\"\n",
    "input_text = \"안녕\""
   ]
  },
  {
   "cell_type": "code",
   "execution_count": 28,
   "id": "ce8d8dd7",
   "metadata": {},
   "outputs": [],
   "source": [
    "messages = get_completion(input_text, system_prompt)\n",
    "messages"
   ]
  },
  {
   "cell_type": "code",
   "execution_count": 34,
   "id": "321ac918",
   "metadata": {},
   "outputs": [
    {
     "name": "stdout",
     "output_type": "stream",
     "text": [
      "0 ('안녕하세요! 도움이 필요하신가요?',)\n",
      "1 (\"안녕하세요! 제가 도움이 필요한 대 part of 수 있도록 최선을 다하겠습니다. (Hello! I'll do my best to be of help.) How can I assist you today?\",)\n",
      "2 (\"Hello! I'm here to assist you in any way I can. Is there something specific you need help with or a task you'd like to accomplish? Let me know and I'll do my best to aid you.\",)\n",
      "3 안녕하세요! 도움이 필요하신가요?\n"
     ]
    }
   ],
   "source": [
    "for i, message in enumerate(messages):\n",
    "    print(i, message)"
   ]
  },
  {
   "cell_type": "code",
   "execution_count": null,
   "id": "217bab06",
   "metadata": {},
   "outputs": [],
   "source": []
  }
 ],
 "metadata": {
  "kernelspec": {
   "display_name": "Python 3 (ipykernel)",
   "language": "python",
   "name": "python3"
  },
  "language_info": {
   "codemirror_mode": {
    "name": "ipython",
    "version": 3
   },
   "file_extension": ".py",
   "mimetype": "text/x-python",
   "name": "python",
   "nbconvert_exporter": "python",
   "pygments_lexer": "ipython3",
   "version": "3.10.11"
  }
 },
 "nbformat": 4,
 "nbformat_minor": 5
}
