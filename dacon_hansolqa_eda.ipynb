{
  "nbformat": 4,
  "nbformat_minor": 0,
  "metadata": {
    "colab": {
      "provenance": [],
      "authorship_tag": "ABX9TyPqvHYAiH9YH4D/l3TiDxy4",
      "include_colab_link": true
    },
    "kernelspec": {
      "name": "python3",
      "display_name": "Python 3"
    },
    "language_info": {
      "name": "python"
    }
  },
  "cells": [
    {
      "cell_type": "markdown",
      "metadata": {
        "id": "view-in-github",
        "colab_type": "text"
      },
      "source": [
        "<a href=\"https://colab.research.google.com/github/Five-Star-Station/Hansol_QA/blob/main/dacon_hansolqa_eda.ipynb\" target=\"_parent\"><img src=\"https://colab.research.google.com/assets/colab-badge.svg\" alt=\"Open In Colab\"/></a>"
      ]
    },
    {
      "cell_type": "code",
      "execution_count": null,
      "metadata": {
        "id": "K-0krbcFd3p2"
      },
      "outputs": [],
      "source": [
        "!pip install keybert"
      ]
    },
    {
      "cell_type": "code",
      "source": [
        "!pip install kiwipiepy"
      ],
      "metadata": {
        "id": "un4IabWzeMWz"
      },
      "execution_count": null,
      "outputs": []
    },
    {
      "cell_type": "code",
      "source": [
        "import os\n",
        "import pandas as pd\n",
        "import numpy as np\n",
        "import matplotlib.pyplot as plt\n",
        "import seaborn as sns"
      ],
      "metadata": {
        "id": "2CiJ0Nxqd5U4"
      },
      "execution_count": 4,
      "outputs": []
    },
    {
      "cell_type": "code",
      "source": [
        "DATA_PATH = '/content/'\n",
        "train_df = pd.read_csv(DATA_PATH + 'train.csv')\n",
        "test_df = pd.read_csv(DATA_PATH + 'test.csv')\n",
        "submission_df = pd.read_csv(DATA_PATH + 'sample_submission.csv')"
      ],
      "metadata": {
        "id": "K_YgVcmjeBJc"
      },
      "execution_count": 5,
      "outputs": []
    },
    {
      "cell_type": "code",
      "source": [
        "train_df.head()"
      ],
      "metadata": {
        "colab": {
          "base_uri": "https://localhost:8080/",
          "height": 553
        },
        "id": "Ls7FzHxvedVz",
        "outputId": "9399ccf0-6327-4a14-b9bd-378804bf2464"
      },
      "execution_count": 6,
      "outputs": [
        {
          "output_type": "execute_result",
          "data": {
            "text/plain": [
              "          id  ...                                               답변_5\n",
              "0  TRAIN_000  ...  면진장치는 건물에 오는 지반 진동의 영향을 최대한으로 흡수하여 건물에 전달되는 진동...\n",
              "1  TRAIN_001  ...  내진 설계에는 다양한 종류가 있지만, 대표적으로 내진구조, 제진구조, 면진구조가 있...\n",
              "2  TRAIN_002  ...  철골구조의 장점은 건물의 외벽에 하중이 크게 걸리지 않아 고층 건물을 건축할 수 있...\n",
              "3  TRAIN_003  ...  철골철근 콘크리트 구조는 강철 골조와 강철 철근, 그리고 콘크리트를 함께 사용하여 ...\n",
              "4  TRAIN_004  ...  철골구조는 일반철골구조와 경량철골구조 두 가지 방식이 주로 사용됩니다. 일반철골구조...\n",
              "\n",
              "[5 rows x 9 columns]"
            ],
            "text/html": [
              "\n",
              "  <div id=\"df-15e458b7-795e-472e-ad1b-f07a669d8843\" class=\"colab-df-container\">\n",
              "    <div>\n",
              "<style scoped>\n",
              "    .dataframe tbody tr th:only-of-type {\n",
              "        vertical-align: middle;\n",
              "    }\n",
              "\n",
              "    .dataframe tbody tr th {\n",
              "        vertical-align: top;\n",
              "    }\n",
              "\n",
              "    .dataframe thead th {\n",
              "        text-align: right;\n",
              "    }\n",
              "</style>\n",
              "<table border=\"1\" class=\"dataframe\">\n",
              "  <thead>\n",
              "    <tr style=\"text-align: right;\">\n",
              "      <th></th>\n",
              "      <th>id</th>\n",
              "      <th>질문_1</th>\n",
              "      <th>질문_2</th>\n",
              "      <th>category</th>\n",
              "      <th>답변_1</th>\n",
              "      <th>답변_2</th>\n",
              "      <th>답변_3</th>\n",
              "      <th>답변_4</th>\n",
              "      <th>답변_5</th>\n",
              "    </tr>\n",
              "  </thead>\n",
              "  <tbody>\n",
              "    <tr>\n",
              "      <th>0</th>\n",
              "      <td>TRAIN_000</td>\n",
              "      <td>면진장치가 뭐야?</td>\n",
              "      <td>면진장치에 사용되는 주요 기술은 무엇인가요?</td>\n",
              "      <td>건축구조</td>\n",
              "      <td>면진장치란 지반에서 오는 진동 에너지를 흡수하여 건물에 주는 진동을 줄여주는 진동 ...</td>\n",
              "      <td>면진장치란 건물의 지반에서 발생하는 진동 에너지를 흡수하여 건물을 보호하고, 진동을...</td>\n",
              "      <td>면진장치란 지반으로부터 발생하는 진동 에너지를 흡수하여 건물에 전달되는 진동을 줄여...</td>\n",
              "      <td>면진장치는 건물의 지반으로부터 오는 진동 에너지를 흡수하여 건물에 전달되는 진동을 ...</td>\n",
              "      <td>면진장치는 건물에 오는 지반 진동의 영향을 최대한으로 흡수하여 건물에 전달되는 진동...</td>\n",
              "    </tr>\n",
              "    <tr>\n",
              "      <th>1</th>\n",
              "      <td>TRAIN_001</td>\n",
              "      <td>내진설계의 종류 좀 알려줘</td>\n",
              "      <td>내진설계에는 어떤 종류가 있는지 자세히 알려주실 수 있나요?</td>\n",
              "      <td>건축구조</td>\n",
              "      <td>내진 설계의 종류로 내진구조, 제진구조, 면진구조가 있습니다.</td>\n",
              "      <td>내진설계에는 내진구조, 제진구조, 면진구조가 있습니다. 내진구조는 건물 구조물이 지...</td>\n",
              "      <td>내진설계에는 주로 내진구조, 제진구조, 면진구조의 세 가지 종류가 있습니다. 이들은...</td>\n",
              "      <td>내진설계에는 주로 내진구조, 제진구조, 면진구조가 사용됩니다. 내진구조는 건물 구조...</td>\n",
              "      <td>내진 설계에는 다양한 종류가 있지만, 대표적으로 내진구조, 제진구조, 면진구조가 있...</td>\n",
              "    </tr>\n",
              "    <tr>\n",
              "      <th>2</th>\n",
              "      <td>TRAIN_002</td>\n",
              "      <td>철골구조의 장점이 뭐야?</td>\n",
              "      <td>철골구조의 장점을 알려줘?</td>\n",
              "      <td>건축구조</td>\n",
              "      <td>철골구조는 건물의 외벽에는 그다지 하중이 걸리지 않기 때문에 고층 건물의 건축이 가...</td>\n",
              "      <td>철골구조의 장점은 건물의 외벽에는 그다지 하중이 걸리지 않기 때문에 고층 건물의 건...</td>\n",
              "      <td>철골구조의 장점은 건물의 외벽에 하중이 적게 걸리기 때문에 고층 건물의 건축이 용이...</td>\n",
              "      <td>철골구조의 장점은 건물의 외벽이 하중이 걸리지 않아 공간 활용이 용이하고, 고층 건...</td>\n",
              "      <td>철골구조의 장점은 건물의 외벽에 하중이 크게 걸리지 않아 고층 건물을 건축할 수 있...</td>\n",
              "    </tr>\n",
              "    <tr>\n",
              "      <th>3</th>\n",
              "      <td>TRAIN_003</td>\n",
              "      <td>철골철근 콘크리트 구조가 뭐야?</td>\n",
              "      <td>철골철근 콘크리트 구조의 장점과 단점에는 무엇이 있을까요?</td>\n",
              "      <td>건축구조</td>\n",
              "      <td>철근철골콘크리트는 철골과 철근, 그리고 콘크리트를 함께 사용하는 건축 구조입니다. ...</td>\n",
              "      <td>철골철근콘크리트 구조는 건축물을 지탱하는 주요 구조물인 철골과 철근, 그리고 콘크리...</td>\n",
              "      <td>철골철근 콘크리트 구조는 건축물을 지탱하기 위한 구조물에서 일반적으로 사용되는 방식...</td>\n",
              "      <td>철골철근콘크리트 구조는 철골과 철근, 그리고 콘크리트를 함께 사용하여 만들어지는 건...</td>\n",
              "      <td>철골철근 콘크리트 구조는 강철 골조와 강철 철근, 그리고 콘크리트를 함께 사용하여 ...</td>\n",
              "    </tr>\n",
              "    <tr>\n",
              "      <th>4</th>\n",
              "      <td>TRAIN_004</td>\n",
              "      <td>철골구조는 어떤 방식이 있어?</td>\n",
              "      <td>철골구조의 다양한 방식이 무엇인가요?</td>\n",
              "      <td>건축구조</td>\n",
              "      <td>철골구조는 일반철골구조와 경량철골구조가 있습니다.</td>\n",
              "      <td>철골구조는 일반철골구조와 경량철골구조가 있습니다. 일반철골구조는 주로 대형 건물이나...</td>\n",
              "      <td>철골구조는 주로 일반철골구조와 경량철골구조로 나뉘어집니다. 이들은 건축 시스템에 따...</td>\n",
              "      <td>철골구조는 주로 일반철골구조와 경량철골구조로 구분됩니다. 이외에도 최근에는 고층 건...</td>\n",
              "      <td>철골구조는 일반철골구조와 경량철골구조 두 가지 방식이 주로 사용됩니다. 일반철골구조...</td>\n",
              "    </tr>\n",
              "  </tbody>\n",
              "</table>\n",
              "</div>\n",
              "    <div class=\"colab-df-buttons\">\n",
              "\n",
              "  <div class=\"colab-df-container\">\n",
              "    <button class=\"colab-df-convert\" onclick=\"convertToInteractive('df-15e458b7-795e-472e-ad1b-f07a669d8843')\"\n",
              "            title=\"Convert this dataframe to an interactive table.\"\n",
              "            style=\"display:none;\">\n",
              "\n",
              "  <svg xmlns=\"http://www.w3.org/2000/svg\" height=\"24px\" viewBox=\"0 -960 960 960\">\n",
              "    <path d=\"M120-120v-720h720v720H120Zm60-500h600v-160H180v160Zm220 220h160v-160H400v160Zm0 220h160v-160H400v160ZM180-400h160v-160H180v160Zm440 0h160v-160H620v160ZM180-180h160v-160H180v160Zm440 0h160v-160H620v160Z\"/>\n",
              "  </svg>\n",
              "    </button>\n",
              "\n",
              "  <style>\n",
              "    .colab-df-container {\n",
              "      display:flex;\n",
              "      gap: 12px;\n",
              "    }\n",
              "\n",
              "    .colab-df-convert {\n",
              "      background-color: #E8F0FE;\n",
              "      border: none;\n",
              "      border-radius: 50%;\n",
              "      cursor: pointer;\n",
              "      display: none;\n",
              "      fill: #1967D2;\n",
              "      height: 32px;\n",
              "      padding: 0 0 0 0;\n",
              "      width: 32px;\n",
              "    }\n",
              "\n",
              "    .colab-df-convert:hover {\n",
              "      background-color: #E2EBFA;\n",
              "      box-shadow: 0px 1px 2px rgba(60, 64, 67, 0.3), 0px 1px 3px 1px rgba(60, 64, 67, 0.15);\n",
              "      fill: #174EA6;\n",
              "    }\n",
              "\n",
              "    .colab-df-buttons div {\n",
              "      margin-bottom: 4px;\n",
              "    }\n",
              "\n",
              "    [theme=dark] .colab-df-convert {\n",
              "      background-color: #3B4455;\n",
              "      fill: #D2E3FC;\n",
              "    }\n",
              "\n",
              "    [theme=dark] .colab-df-convert:hover {\n",
              "      background-color: #434B5C;\n",
              "      box-shadow: 0px 1px 3px 1px rgba(0, 0, 0, 0.15);\n",
              "      filter: drop-shadow(0px 1px 2px rgba(0, 0, 0, 0.3));\n",
              "      fill: #FFFFFF;\n",
              "    }\n",
              "  </style>\n",
              "\n",
              "    <script>\n",
              "      const buttonEl =\n",
              "        document.querySelector('#df-15e458b7-795e-472e-ad1b-f07a669d8843 button.colab-df-convert');\n",
              "      buttonEl.style.display =\n",
              "        google.colab.kernel.accessAllowed ? 'block' : 'none';\n",
              "\n",
              "      async function convertToInteractive(key) {\n",
              "        const element = document.querySelector('#df-15e458b7-795e-472e-ad1b-f07a669d8843');\n",
              "        const dataTable =\n",
              "          await google.colab.kernel.invokeFunction('convertToInteractive',\n",
              "                                                    [key], {});\n",
              "        if (!dataTable) return;\n",
              "\n",
              "        const docLinkHtml = 'Like what you see? Visit the ' +\n",
              "          '<a target=\"_blank\" href=https://colab.research.google.com/notebooks/data_table.ipynb>data table notebook</a>'\n",
              "          + ' to learn more about interactive tables.';\n",
              "        element.innerHTML = '';\n",
              "        dataTable['output_type'] = 'display_data';\n",
              "        await google.colab.output.renderOutput(dataTable, element);\n",
              "        const docLink = document.createElement('div');\n",
              "        docLink.innerHTML = docLinkHtml;\n",
              "        element.appendChild(docLink);\n",
              "      }\n",
              "    </script>\n",
              "  </div>\n",
              "\n",
              "\n",
              "<div id=\"df-b2c4c64e-2618-4510-aede-c597fc202e9c\">\n",
              "  <button class=\"colab-df-quickchart\" onclick=\"quickchart('df-b2c4c64e-2618-4510-aede-c597fc202e9c')\"\n",
              "            title=\"Suggest charts\"\n",
              "            style=\"display:none;\">\n",
              "\n",
              "<svg xmlns=\"http://www.w3.org/2000/svg\" height=\"24px\"viewBox=\"0 0 24 24\"\n",
              "     width=\"24px\">\n",
              "    <g>\n",
              "        <path d=\"M19 3H5c-1.1 0-2 .9-2 2v14c0 1.1.9 2 2 2h14c1.1 0 2-.9 2-2V5c0-1.1-.9-2-2-2zM9 17H7v-7h2v7zm4 0h-2V7h2v10zm4 0h-2v-4h2v4z\"/>\n",
              "    </g>\n",
              "</svg>\n",
              "  </button>\n",
              "\n",
              "<style>\n",
              "  .colab-df-quickchart {\n",
              "      --bg-color: #E8F0FE;\n",
              "      --fill-color: #1967D2;\n",
              "      --hover-bg-color: #E2EBFA;\n",
              "      --hover-fill-color: #174EA6;\n",
              "      --disabled-fill-color: #AAA;\n",
              "      --disabled-bg-color: #DDD;\n",
              "  }\n",
              "\n",
              "  [theme=dark] .colab-df-quickchart {\n",
              "      --bg-color: #3B4455;\n",
              "      --fill-color: #D2E3FC;\n",
              "      --hover-bg-color: #434B5C;\n",
              "      --hover-fill-color: #FFFFFF;\n",
              "      --disabled-bg-color: #3B4455;\n",
              "      --disabled-fill-color: #666;\n",
              "  }\n",
              "\n",
              "  .colab-df-quickchart {\n",
              "    background-color: var(--bg-color);\n",
              "    border: none;\n",
              "    border-radius: 50%;\n",
              "    cursor: pointer;\n",
              "    display: none;\n",
              "    fill: var(--fill-color);\n",
              "    height: 32px;\n",
              "    padding: 0;\n",
              "    width: 32px;\n",
              "  }\n",
              "\n",
              "  .colab-df-quickchart:hover {\n",
              "    background-color: var(--hover-bg-color);\n",
              "    box-shadow: 0 1px 2px rgba(60, 64, 67, 0.3), 0 1px 3px 1px rgba(60, 64, 67, 0.15);\n",
              "    fill: var(--button-hover-fill-color);\n",
              "  }\n",
              "\n",
              "  .colab-df-quickchart-complete:disabled,\n",
              "  .colab-df-quickchart-complete:disabled:hover {\n",
              "    background-color: var(--disabled-bg-color);\n",
              "    fill: var(--disabled-fill-color);\n",
              "    box-shadow: none;\n",
              "  }\n",
              "\n",
              "  .colab-df-spinner {\n",
              "    border: 2px solid var(--fill-color);\n",
              "    border-color: transparent;\n",
              "    border-bottom-color: var(--fill-color);\n",
              "    animation:\n",
              "      spin 1s steps(1) infinite;\n",
              "  }\n",
              "\n",
              "  @keyframes spin {\n",
              "    0% {\n",
              "      border-color: transparent;\n",
              "      border-bottom-color: var(--fill-color);\n",
              "      border-left-color: var(--fill-color);\n",
              "    }\n",
              "    20% {\n",
              "      border-color: transparent;\n",
              "      border-left-color: var(--fill-color);\n",
              "      border-top-color: var(--fill-color);\n",
              "    }\n",
              "    30% {\n",
              "      border-color: transparent;\n",
              "      border-left-color: var(--fill-color);\n",
              "      border-top-color: var(--fill-color);\n",
              "      border-right-color: var(--fill-color);\n",
              "    }\n",
              "    40% {\n",
              "      border-color: transparent;\n",
              "      border-right-color: var(--fill-color);\n",
              "      border-top-color: var(--fill-color);\n",
              "    }\n",
              "    60% {\n",
              "      border-color: transparent;\n",
              "      border-right-color: var(--fill-color);\n",
              "    }\n",
              "    80% {\n",
              "      border-color: transparent;\n",
              "      border-right-color: var(--fill-color);\n",
              "      border-bottom-color: var(--fill-color);\n",
              "    }\n",
              "    90% {\n",
              "      border-color: transparent;\n",
              "      border-bottom-color: var(--fill-color);\n",
              "    }\n",
              "  }\n",
              "</style>\n",
              "\n",
              "  <script>\n",
              "    async function quickchart(key) {\n",
              "      const quickchartButtonEl =\n",
              "        document.querySelector('#' + key + ' button');\n",
              "      quickchartButtonEl.disabled = true;  // To prevent multiple clicks.\n",
              "      quickchartButtonEl.classList.add('colab-df-spinner');\n",
              "      try {\n",
              "        const charts = await google.colab.kernel.invokeFunction(\n",
              "            'suggestCharts', [key], {});\n",
              "      } catch (error) {\n",
              "        console.error('Error during call to suggestCharts:', error);\n",
              "      }\n",
              "      quickchartButtonEl.classList.remove('colab-df-spinner');\n",
              "      quickchartButtonEl.classList.add('colab-df-quickchart-complete');\n",
              "    }\n",
              "    (() => {\n",
              "      let quickchartButtonEl =\n",
              "        document.querySelector('#df-b2c4c64e-2618-4510-aede-c597fc202e9c button');\n",
              "      quickchartButtonEl.style.display =\n",
              "        google.colab.kernel.accessAllowed ? 'block' : 'none';\n",
              "    })();\n",
              "  </script>\n",
              "</div>\n",
              "\n",
              "    </div>\n",
              "  </div>\n"
            ],
            "application/vnd.google.colaboratory.intrinsic+json": {
              "type": "dataframe",
              "variable_name": "train_df",
              "summary": "{\n  \"name\": \"train_df\",\n  \"rows\": 644,\n  \"fields\": [\n    {\n      \"column\": \"id\",\n      \"properties\": {\n        \"dtype\": \"string\",\n        \"samples\": [\n          \"TRAIN_631\",\n          \"TRAIN_592\",\n          \"TRAIN_599\"\n        ],\n        \"num_unique_values\": 644,\n        \"semantic_type\": \"\",\n        \"description\": \"\"\n      }\n    },\n    {\n      \"column\": \"\\uc9c8\\ubb38_1\",\n      \"properties\": {\n        \"dtype\": \"string\",\n        \"samples\": [\n          \"\\ubd80\\uc5cc \\ubc0f \\uc695\\uc2e4\\uc758 \\uacb0\\ub85c\\uc758 \\uc6d0\\uc778\\uc740 \\ubb50\\uc57c?\",\n          \"\\ub3c4\\ubc30\\uc9c0\\uc5d0 \\uc5bc\\ub8e9\\uc774 \\uc788\\uc5b4\",\n          \"\\ucf58\\ud06c\\ub9ac\\ud2b8 \\ubcbd\\uc5d0 \\ub098\\uc0ac\\ub97c \\ubc15\\uc73c\\ub824\\uba74 \\uc5b4\\ub5bb\\uac8c \\ud574\\uc57c \\ud574?\"\n        ],\n        \"num_unique_values\": 643,\n        \"semantic_type\": \"\",\n        \"description\": \"\"\n      }\n    },\n    {\n      \"column\": \"\\uc9c8\\ubb38_2\",\n      \"properties\": {\n        \"dtype\": \"string\",\n        \"samples\": [\n          \"\\ubd80\\uc5cc\\uacfc \\uc695\\uc2e4\\uc5d0\\uc11c \\ubc1c\\uc0dd\\ud558\\ub294 \\uacb0\\ub85c\\uc758 \\uc8fc\\uc694 \\uc6d0\\uc778\\uc740 \\ubb34\\uc5c7\\uc778\\uac00\\uc694?\",\n          \"\\ub3c4\\ubc30\\uc9c0\\uc5d0 \\uc5bc\\ub8e9\\uc774 \\uc788\\ub294 \\uacbd\\uc6b0 \\uc5b4\\ub5bb\\uac8c \\ucc98\\ub9ac\\ud574\\uc57c \\ud558\\ub098\\uc694?\",\n          \"\\ucf58\\ud06c\\ub9ac\\ud2b8 \\ubcbd\\uc5d0 \\ub098\\uc0ac\\ub97c \\ubc15\\ub294 \\ubc29\\ubc95\\uc774 \\uc788\\uc744\\uae4c\\uc694?\"\n        ],\n        \"num_unique_values\": 643,\n        \"semantic_type\": \"\",\n        \"description\": \"\"\n      }\n    },\n    {\n      \"column\": \"category\",\n      \"properties\": {\n        \"dtype\": \"category\",\n        \"samples\": [\n          \"\\uac74\\ucd95\\uad6c\\uc870\",\n          \"\\uae30\\ud0c0\",\n          \"\\uc778\\ud14c\\ub9ac\\uc5b4\"\n        ],\n        \"num_unique_values\": 7,\n        \"semantic_type\": \"\",\n        \"description\": \"\"\n      }\n    },\n    {\n      \"column\": \"\\ub2f5\\ubcc0_1\",\n      \"properties\": {\n        \"dtype\": \"string\",\n        \"samples\": [\n          \"\\ubd80\\uc5cc\\uc774\\ub098 \\uc695\\uc2e4\\uc758 \\uacbd\\uc6b0 \\uc678\\ubcbd\\uc774\\ub098 \\ube44 \\ub09c\\ubc29\\uacf5\\uac04\\uc5d0 \\uc811\\ud55c \\uba74\\uc774 \\ubcbd\\uccb4\\uc758 \\uc77c\\ubd80\\uc778 \\ubd80\\uc5cc\\uc774\\ub098 \\uc695\\uc2e4\\uc5d0\\uc11c\\ub294 \\uc678\\ubd80\\uc758 \\ucc28\\uac00\\uc6b4 \\ud45c\\uba74\\uc628\\ub3c4\\ub3e0 \\ub0b4\\ubd80\\uc758 \\ub192\\uc740 \\uc2b5\\ub3c4\\uac00 \\uacb0\\ub85c\\uac00 \\ubc1c\\uc0dd\\ud560 \\uc218 \\uc788\\ub294 \\ucd5c\\uc801\\uc758 \\uc870\\uac74\\uc774 \\ub429\\ub2c8\\ub2e4.\",\n          \"\\ub3c4\\ubc30\\uc9c0\\uc758 \\uc624\\uc5fc(\\uc5bc\\ub8e9)\\uc740 \\uad6d\\uc18c\\uc801\\uc73c\\ub85c \\uc810, \\uc120, \\uba74\\uc758 \\ud615\\ud0dc\\ub97c \\uc774\\ub8e8\\uace0 \\uc788\\uc2b5\\ub2c8\\ub2e4. \\uc5bc\\ub8e9 \\ud558\\uc790\\uac00 \\ubc1c\\uc0dd\\ud558\\ub294 \\ubc1c\\uc0dd\\ud558\\ub294 \\uc6d0\\uc778 - \\ucc45\\uc784\\uc18c\\uc7ac - \\ud574\\uacb0\\ubc29\\ubc95\\uc5d0 \\ub300\\ud574 \\uc124\\uba85\\ub4dc\\ub9ac\\uaca0\\uc2b5\\ub2c8\\ub2e4. 1. \\uacf5\\uac04 \\ub0b4 \\ub192\\uc740 \\uc2b5\\ub3c4 \\uc6d0\\uc778 : \\ub192\\uc740 \\uc2b5\\ub3c4 \\ud658\\uacbd\\uc5d0\\uc11c \\ub3c4\\ubc30\\uc9c0\\uc758 \\ud45c\\uba74\\uc774 \\uc816\\uc73c\\uba74 \\ub2e4\\uc591\\ud55c \\ubb3c\\uc9c8\\uc774 \\ud761\\uc218\\ub418\\uae30 \\uc27d\\uc2b5\\ub2c8\\ub2e4. \\uc774\\ub7ec\\ud55c \\ubb3c\\uc9c8\\uc740 \\ud45c\\uba74\\uc5d0 \\uc5bc\\ub8e9 \\ud615\\ud0dc\\ub85c \\ub098\\ud0c0\\ub0a0 \\uc218 \\uc788\\uc2b5\\ub2c8\\ub2e4. \\ucc45\\uc784\\uc18c\\uc7ac :  \\uac74\\ubb3c\\uc758 \\uc18c\\uc720\\uc790\\ub098 \\uac70\\uc8fc\\uc790\\uac00 \\uc2b5\\uae30 \\uad00\\ub9ac\\uc758 \\ucc45\\uc784\\uc774 \\uc788\\uc2b5\\ub2c8\\ub2e4. \\ud574\\uacb0 \\ubc29\\ubc95 : \\uc81c\\uc2b5\\uae30 \\uac00\\ub3d9, \\ud658\\uae30\\ub97c \\ud1b5\\ud574 \\uc2e4\\ub0b4 \\uc801\\uc815 \\uc2b5\\ub3c4\\ub97c \\uc720\\uc9c0\\ud558\\uace0 \\uc804\\ubb38\\uac00\\uc758 \\ub3c4\\uc6c0\\uc744 \\ubc1b\\uc544 \\ubcf4\\uc218\\uc791\\uc5c5\\ud558\\ub294 \\uac83\\uc744 \\ucd94\\ucc9c\\ud569\\ub2c8\\ub2e4. 2. \\uba3c\\uc9c0 \\ubc0f \\uc5f0\\uae30\\ub85c \\uc778\\ud55c \\uc624\\uc5fc \\uc6d0\\uc778 : \\ub3c4\\ubc30\\uc9c0 \\ud45c\\uba74\\uc5d0 \\uba3c\\uc9c0\\ub098 \\uc5f0\\uae30(\\ub2f4\\ubc30, \\uc870\\ub9ac\\uacfc\\uc815\\uc5d0\\uc11c \\ubc1c\\uc0dd\\ud558\\ub294 \\uc5f0\\uae30 \\ub4f1)\\uac00 \\ucd95\\uc801\\ub418\\uba74 \\uc5bc\\ub8e9\\uc774 \\ubc1c\\uc0dd\\ud560 \\uc218 \\uc788\\uc2b5\\ub2c8\\ub2e4. \\ucc45\\uc784\\uc18c\\uc7ac : \\uac74\\ubb3c\\uc758 \\uc18c\\uc720\\uc790\\ub098 \\uac70\\uc8fc\\uc790\\uac00 \\ud658\\uacbd \\uad00\\ub9ac\\uc758 \\ucc45\\uc784\\uc774 \\uc788\\uc2b5\\ub2c8\\ub2e4. \\ud574\\uacb0 \\ubc29\\ubc95 : \\ud544\\uc694\\ud55c \\uacbd\\uc6b0 \\uc5bc\\ub8e9 \\uc81c\\uac70\\uc81c\\ub098 \\uccad\\uc18c \\uc6a9\\ud488\\uc744 \\uc0ac\\uc6a9\\ud558\\uc5ec \\uc5bc\\ub8e9\\uc744 \\ucc98\\ub9ac\\ud574\\uc57c \\ud569\\ub2c8\\ub2e4. \\uc5bc\\ub8e9\\uc774 \\uc0ac\\ub77c\\uc9c0\\uc9c0 \\uc54a\\uc73c\\uba74 \\ubd80\\ubd84 \\ubc0f \\uc804\\uccb4 \\ub3c4\\ubc30 \\uc791\\uc5c5\\ud558\\ub294 \\uac83\\uc744 \\uace0\\ub824\\ud574\\uc57c \\ud569\\ub2c8\\ub2e4. 3. \\ud654\\ud559\\ubb3c\\uc9c8\\uc5d0 \\uc758\\ud55c \\uc624\\uc5fc \\uc6d0\\uc778 : \\ub3c4\\ubc30\\uc9c0\\uac00 \\ud654\\ud559\\ubb3c\\uc9c8\\uc5d0 \\ub178\\ucd9c\\ub418\\uba74 \\uc624\\uc5fc\\uc774 \\ubc1c\\uc0dd\\ud569\\ub2c8\\ub2e4. \\ucc45\\uc784\\uc18c\\uc7ac : \\uac74\\ubb3c\\uc758 \\uc18c\\uc720\\uc790\\ub098 \\uac70\\uc8fc\\uc790\\uac00 \\ucc45\\uc784\\uc774 \\uc788\\uc2b5\\ub2c8\\ub2e4. \\ud574\\uacb0 \\ubc29\\ubc95 : \\ud654\\ud559\\ubb3c\\uc9c8\\uc758 \\uc885\\ub958\\ub97c \\ud30c\\uc545\\ud55c \\ud6c4 \\uc54c\\ub9de\\uc740 \\ubc29\\ubc95\\uc73c\\ub85c \\uc624\\uc5fc\\uc744 \\uc81c\\uac70\\ud574\\uc57c \\ud558\\uba70 \\ub9cc\\uc57d \\uc624\\uc5fc\\uc774 \\uc81c\\uac70\\ub418\\uc9c0 \\uc54a\\ub294\\ub2e4\\uba74 \\ubcbd\\uc9c0\\ub97c \\uad50\\uccb4\\ud574\\uc57c \\ud569\\ub2c8\\ub2e4.\",\n          \"\\ucf58\\ud06c\\ub9ac\\ud2b8 \\ubcbd\\uc5d0 \\ub098\\uc0ac\\ub97c \\ubc15\\uc73c\\ub824\\uba74 \\ucf54\\uc5b4\\ub4dc\\ub9b4\\uc774\\ub098 \\ud574\\uba38\\ub4dc\\ub9b4\\uc744 \\uc774\\uc6a9\\ud558\\uc5ec \\uad6c\\uba4d\\uc744 \\ub6ab\\uc740 \\ud6c4 \\uce7c\\ube14\\ub7ed\\uc744 \\ub9dd\\uce58\\ub85c \\ubc15\\uc740 \\ud6c4 \\ub098\\uc0ac\\ub97c \\ub3cc\\ub824\\uc11c \\ub123\\uc2b5\\ub2c8\\ub2e4.\"\n        ],\n        \"num_unique_values\": 643,\n        \"semantic_type\": \"\",\n        \"description\": \"\"\n      }\n    },\n    {\n      \"column\": \"\\ub2f5\\ubcc0_2\",\n      \"properties\": {\n        \"dtype\": \"string\",\n        \"samples\": [\n          \"\\ubd80\\uc5cc\\uc774\\ub098 \\uc695\\uc2e4\\uc758 \\uacbd\\uc6b0 \\uc678\\ubcbd\\uc774\\ub098 \\ube44 \\ub09c\\ubc29\\uacf5\\uac04\\uc5d0 \\uc811\\ud55c \\uba74\\uc774 \\ubcbd\\uccb4\\uc758 \\uc77c\\ubd80\\uc778 \\ubd80\\uc5cc\\uc774\\ub098 \\uc695\\uc2e4\\uc5d0\\uc11c\\ub294 \\uc678\\ubd80\\uc758 \\ucc28\\uac00\\uc6b4 \\ud45c\\uba74\\uc628\\ub3c4\\uc640 \\ub0b4\\ubd80\\uc758 \\ub192\\uc740 \\uc2b5\\ub3c4\\uac00 \\uacb0\\ub85c\\uac00 \\ubc1c\\uc0dd\\ud560 \\uc218 \\uc788\\ub294 \\ucd5c\\uc801\\uc758 \\uc870\\uac74\\uc774 \\ub429\\ub2c8\\ub2e4. \\uc774\\ub7ec\\ud55c \\uc870\\uac74\\uc740 \\uc8fc\\ub85c \\ud658\\uae30\\uac00 \\ubd80\\uc871\\ud558\\uac70\\ub098 \\ubd80\\uc5cc\\uacfc \\uc695\\uc2e4\\uc5d0\\uc11c \\ubc1c\\uc0dd\\ud558\\ub294 \\uc99d\\uae30\\uac00 \\uc27d\\uac8c \\ubc30\\ucd9c\\ub418\\uc9c0 \\uc54a\\ub294 \\uacbd\\uc6b0\\uc5d0 \\ubc1c\\uc0dd\\ud560 \\uc218 \\uc788\\uc2b5\\ub2c8\\ub2e4. \\ud2b9\\ud788 \\ud55c\\uad6d\\uacfc \\uac19\\uc774 \\uc2b5\\ub3c4\\uac00 \\ub192\\uc740 \\uc9c0\\uc5ed\\uc77c\\uc218\\ub85d \\uc774\\ub7ec\\ud55c \\ubb38\\uc81c\\uac00 \\ube48\\ubc88\\ud558\\uac8c \\ubc1c\\uc0dd\\ud560 \\uc218 \\uc788\\uc73c\\ubbc0\\ub85c \\uc2e4\\ub0b4 \\ud658\\uae30\\ub97c \\uc720\\uc9c0\\ud558\\uace0 \\uc801\\uc808\\ud55c \\ubc29\\ubc95\\uc73c\\ub85c \\uc2b5\\uae30\\ub97c \\uc81c\\uac70\\ud558\\ub294 \\uac83\\uc774 \\uc911\\uc694\\ud569\\ub2c8\\ub2e4.\",\n          \"\\uc870\\uba85\\uc740 \\uc778\\ud14c\\ub9ac\\uc5b4 \\ub514\\uc790\\uc778\\uc5d0\\uc11c \\uadf9\\ud788 \\uc911\\uc694\\ud55c \\uc5ed\\ud560\\uc744 \\ud569\\ub2c8\\ub2e4. \\uadf8\\uac83\\uc740 \\uacf5\\uac04\\uc758 \\ubd84\\uc704\\uae30\\uc640 \\ud658\\uacbd\\uc744 \\uc870\\uc808\\ud558\\ub294 \\ub370 \\uc0ac\\uc6a9\\ub418\\uba70, \\ud2b9\\uc815 \\uad6c\\uc5ed\\uc774\\ub098 \\ubb3c\\uccb4\\ub97c \\uac15\\uc870\\ud558\\ub294\\ub370 \\uc0ac\\uc6a9\\ub429\\ub2c8\\ub2e4. \\ub610\\ud55c \\uc2dc\\uc120\\uc744 \\uc774\\ub044\\ub294 \\uc5ed\\ud560\\uc744 \\ud558\\uc5ec \\ub514\\uc790\\uc778 \\uc694\\uc18c\\ub97c \\ub3cb\\ubcf4\\uc774\\uac8c \\ud558\\uace0, \\uacf5\\uac04\\uc5d0 \\uae4a\\uc774\\uac10\\uacfc \\ucc28\\uc6d0\\uc744 \\ubd80\\uc5ec\\ud558\\uc5ec \\uc2dc\\uac01\\uc801 \\ud6a8\\uacfc\\ub97c \\uadf9\\ub300\\ud654\\ud569\\ub2c8\\ub2e4.\",\n          \"\\ubbf8\\ub2c8\\uba40\\ub9ac\\uc998 \\uc2a4\\ud0c0\\uc77c\\uc744 \\uc0b4\\ub9ac\\uae30 \\uc704\\ud574\\uc11c\\ub294 \\ub2e8\\uc21c\\ud55c \\ud615\\ud0dc\\uc640 \\uc0c9\\uc0c1, \\uaddc\\uce59\\uc801\\uc778 \\ud328\\ud134\\uc744 \\ud65c\\uc6a9\\ud558\\uc5ec \\ubd88\\ud544\\uc694\\ud55c \\uc7a5\\uc2dd\\uc744 \\ucd5c\\uc18c\\ud654\\ud558\\ub294 \\uac83\\uc774 \\uc911\\uc694\\ud569\\ub2c8\\ub2e4. \\ub530\\ub77c\\uc11c \\uac00\\uad6c\\ub098 \\uc18c\\ud488\\uc744 \\uc120\\ud0dd\\ud560 \\ub54c\\ub294 \\uae54\\ub054\\ud558\\uace0 \\uac04\\uacb0\\ud55c \\ub514\\uc790\\uc778\\uc758 \\uc81c\\ud488\\uc744 \\uc120\\ud0dd\\ud558\\ub294 \\uac83\\uc774 \\uc88b\\uc2b5\\ub2c8\\ub2e4. \\ub610\\ud55c, \\uc911\\uc694\\ud55c \\uac83\\uc740 \\uacf5\\uac04\\uc744 \\uc815\\ub9ac\\uc815\\ub3c8\\ud558\\uc5ec \\ubd88\\ud544\\uc694\\ud55c \\uc18c\\ud488\\uc774\\ub098 \\uac00\\uad6c\\ub97c \\ucd5c\\uc18c\\ud654\\ud558\\uace0 \\uae54\\ub054\\ud55c \\uc218\\ub0a9 \\uacf5\\uac04\\uc744 \\ud65c\\uc6a9\\ud558\\ub294 \\uac83\\uc785\\ub2c8\\ub2e4. \\ubbf8\\ub2c8\\uba40\\ub9ac\\uc998 \\uc2a4\\ud0c0\\uc77c\\uc740 \\uac04\\uacb0\\ud55c \\ub514\\uc790\\uc778\\uc73c\\ub85c \\uacf5\\uac04\\uc5d0 \\uc870\\ud654\\ub97c \\uc774\\ub8e8\\uace0 \\uc2ec\\ud50c\\ud568\\uc744 \\uac15\\uc870\\ud558\\ubbc0\\ub85c, \\ub77c\\uc774\\ud2b8\\ud558\\uac70\\ub098 \\ub2e4\\ud06c\\ud55c \\ud1a4\\uc758 \\uc0c9\\uc0c1 \\uc911\\uc2ec\\uc73c\\ub85c \\ud558\\ub294 \\uac83\\uc774 \\uc77c\\ubc18\\uc801\\uc785\\ub2c8\\ub2e4.\"\n        ],\n        \"num_unique_values\": 644,\n        \"semantic_type\": \"\",\n        \"description\": \"\"\n      }\n    },\n    {\n      \"column\": \"\\ub2f5\\ubcc0_3\",\n      \"properties\": {\n        \"dtype\": \"string\",\n        \"samples\": [\n          \"\\ubd80\\uc5cc\\uc774\\ub098 \\uc695\\uc2e4\\uc758 \\uacb0\\ub85c\\ub294 \\uc678\\ubcbd\\uc774\\ub098 \\ube44 \\ub09c\\ubc29\\uacf5\\uac04\\uc5d0 \\uc811\\ud55c \\uba74\\uc774 \\ubcbd\\uccb4\\uc758 \\uc77c\\ubd80\\uc778 \\ubd80\\uc5cc\\uc774\\ub098 \\uc695\\uc2e4\\uc5d0\\uc11c \\ubc1c\\uc0dd\\ud569\\ub2c8\\ub2e4. \\uc774\\ub7ec\\ud55c \\uacf5\\uac04\\uc740 \\uc678\\ubd80\\uc758 \\ucc28\\uac00\\uc6b4 \\ud45c\\uba74\\uc628\\ub3c4\\uc640 \\ub0b4\\ubd80\\uc758 \\ub192\\uc740 \\uc2b5\\ub3c4\\uac00 \\uacb0\\ub85c\\uac00 \\ubc1c\\uc0dd\\ud558\\uae30\\uc5d0 \\ucd5c\\uc801\\uc758 \\uc870\\uac74\\uc744 \\uc81c\\uacf5\\ud558\\uae30 \\ub54c\\ubb38\\uc785\\ub2c8\\ub2e4. \\uc678\\ubd80\\uc640 \\ub0b4\\ubd80 \\uac04\\uc758 \\uc628\\ub3c4\\ucc28\\ub85c \\uc778\\ud574 \\ubcbd\\uba74\\uc774 \\ucda5\\uace0, \\uc99d\\ubc1c\\ub418\\ub294 \\uacfc\\uc815\\uc5d0\\uc11c \\uc218\\ubd84\\uc774 \\uacb0\\uc815\\uccb4\\ub85c \\ubcc0\\ud558\\ub294 \\uac83\\uc774 \\uacb0\\ub85c \\ubc1c\\uc0dd\\uc758 \\uc8fc\\ub41c \\uc6d0\\uc778\\uc774 \\ub429\\ub2c8\\ub2e4. \\uc774\\ub7ec\\ud55c \\ubb38\\uc81c\\ub294 \\uc2e4\\ub0b4 \\uc2b5\\ub3c4\\uc640 \\uacf5\\uac04 \\ub0b4\\ubd80\\uc758 \\uc628\\ub3c4, \\uc678\\ubd80\\uc5d0\\uc11c \\uc624\\ub294 \\ucc28\\uac00\\uc6b4 \\uc628\\ub3c4 \\ub4f1 \\ub2e4\\uc591\\ud55c \\uc694\\uc778\\uc5d0 \\uc758\\ud574 \\ubc1c\\uc0dd\\ud560 \\uc218 \\uc788\\uc2b5\\ub2c8\\ub2e4.\",\n          \"\\uc870\\uba85\\uc740 \\uc778\\ud14c\\ub9ac\\uc5b4 \\ub514\\uc790\\uc778\\uc5d0\\uc11c \\ub9e4\\uc6b0 \\uc911\\uc694\\ud55c \\uc5ed\\ud560\\uc744 \\ud569\\ub2c8\\ub2e4. \\uadf8\\uac83\\uc740 \\uacf5\\uac04\\uc758 \\ubd84\\uc704\\uae30\\ub97c \\uc870\\uc808\\ud558\\uace0, \\ud2b9\\uc815\\ud55c \\ubd80\\ubd84\\uc5d0 \\uc9d1\\uc911\\ud560 \\uc218 \\uc788\\ub3c4\\ub85d \\ud558\\ub294 \\ud3ec\\uc778\\ud2b8 \\ub77c\\uc774\\ud305 \\uadf8\\ub9ac\\uace0 \\uc2dc\\uc120\\uc744 \\uc774\\ub044\\ub294 \\uc5ed\\ud560\\uc744 \\ud569\\ub2c8\\ub2e4. \\ubfd0\\ub9cc \\uc544\\ub2c8\\ub77c, \\uc778\\ud14c\\ub9ac\\uc5b4 \\ub514\\uc790\\uc778\\uc758 \\uc77c\\ubd80\\ub85c\\uc11c \\uacf5\\uac04\\uc758 \\ud615\\ud0dc\\uc640 \\uac70\\ub9ac\\uac10\\uc744 \\uac15\\uc870\\ud558\\uace0 \\uc2dc\\uac01\\uc801\\uc73c\\ub85c \\uac1c\\uc120\\ud558\\ub294 \\ub370 \\ub3c4\\uc6c0\\uc744 \\uc90d\\ub2c8\\ub2e4. \\uc774\\ub7ec\\ud55c \\ub2e4\\uc591\\ud55c \\uc5ed\\ud560\\uc744 \\ud1b5\\ud574 \\uc870\\uba85\\uc740 \\uc778\\ud14c\\ub9ac\\uc5b4 \\ub514\\uc790\\uc778\\uc5d0\\uc11c \\ub180\\ub77c\\uc6b4 \\ubcc0\\ud654\\ub97c \\ub9cc\\ub4e4\\uc5b4 \\ub0c5\\ub2c8\\ub2e4.\",\n          \"\\ubbf8\\ub2c8\\uba40\\ub9ac\\uc998 \\uc2a4\\ud0c0\\uc77c\\uc744 \\uc0b4\\ub9ac\\uae30 \\uc704\\ud574\\uc11c\\ub294 \\ub2e8\\uc21c\\ud55c \\ud615\\ud0dc\\uc640 \\uc0c9\\uc0c1, \\uadf8\\ub9ac\\uace0 \\uaddc\\uce59\\uc801\\uc778 \\ud328\\ud134\\uc744 \\ud65c\\uc6a9\\ud55c \\ub514\\uc790\\uc778\\uc744 \\uc120\\ud0dd\\ud574\\uc57c \\ud569\\ub2c8\\ub2e4. \\ubd88\\ud544\\uc694\\ud55c \\uc7a5\\uc2dd\\uc744 \\ucd5c\\uc18c\\ud654\\ud558\\uace0, \\uac00\\uad6c\\ub098 \\uc18c\\ud488 \\uc5ed\\uc2dc \\uae54\\ub054\\ud558\\uace0 \\uac04\\uacb0\\ud55c \\ud615\\ud0dc\\ub97c \\uc120\\ud0dd\\ud558\\ub294 \\uac83\\uc774 \\uc911\\uc694\\ud569\\ub2c8\\ub2e4. \\ub610\\ud55c, \\uacf5\\uac04 \\ub0b4\\ubd80\\uc758 \\ubd88\\ud544\\uc694\\ud55c \\uc694\\uc18c\\ub97c \\uc81c\\uac70\\ud558\\uace0 \\uae68\\ub057\\ud558\\uace0 \\uc815\\ub3c8\\ub41c \\ubd84\\uc704\\uae30\\ub97c \\uc720\\uc9c0\\ud558\\ub294 \\uac83\\uc774 \\ubbf8\\ub2c8\\uba40\\ub9ac\\uc998 \\uc2a4\\ud0c0\\uc77c\\uc744 \\uc0b4\\ub9ac\\ub294 \\ub370 \\ub3c4\\uc6c0\\uc774 \\ub429\\ub2c8\\ub2e4.\"\n        ],\n        \"num_unique_values\": 644,\n        \"semantic_type\": \"\",\n        \"description\": \"\"\n      }\n    },\n    {\n      \"column\": \"\\ub2f5\\ubcc0_4\",\n      \"properties\": {\n        \"dtype\": \"string\",\n        \"samples\": [\n          \"\\ubd80\\uc5cc\\uc774\\ub098 \\uc695\\uc2e4\\uc758 \\uacb0\\ub85c\\uac00 \\ubc1c\\uc0dd\\ud558\\ub294 \\uac00\\uc7a5 \\uc77c\\ubc18\\uc801\\uc778 \\uc6d0\\uc778\\uc740 \\uc678\\ubd80\\uc758 \\ucc28\\uac00\\uc6b4 \\ud45c\\uba74\\uc628\\ub3c4\\uc640 \\ub0b4\\ubd80\\uc758 \\ub192\\uc740 \\uc2b5\\ub3c4\\uac00 \\uacb0\\ud569\\ub418\\ub294 \\uac83\\uc785\\ub2c8\\ub2e4. \\uc774\\ub7ec\\ud55c \\uc870\\uac74\\uc740 \\uc678\\ubcbd\\uc774\\ub098 \\ube44 \\ub09c\\ubc29\\uacf5\\uac04\\uc5d0 \\uc811\\ud55c \\uba74\\uc778 \\ubd80\\uc5cc\\uc774\\ub098 \\uc695\\uc2e4\\uc5d0\\uc11c \\uc790\\uc8fc \\ubc1c\\uc0dd\\ud560 \\uc218 \\uc788\\uc2b5\\ub2c8\\ub2e4. \\ub530\\ub77c\\uc11c \\uc801\\uc808\\ud55c \\ud658\\uae30\\uc640 \\ucda9\\ubd84\\ud55c \\uc218\\ubd84 \\uc81c\\uac70\\ub97c \\ud1b5\\ud574 \\uc774\\ub7ec\\ud55c \\uc0c1\\ud669\\uc744 \\uc608\\ubc29\\ud560 \\uc218 \\uc788\\uc2b5\\ub2c8\\ub2e4.\",\n          \"\\uc870\\uba85\\uc740 \\uc778\\ud14c\\ub9ac\\uc5b4 \\ub514\\uc790\\uc778\\uc5d0\\uc11c \\ub9e4\\uc6b0 \\uc911\\uc694\\ud55c \\uc5ed\\ud560\\uc744 \\ud569\\ub2c8\\ub2e4. \\uc774\\ub294 \\uacf5\\uac04\\uc758 \\ubd84\\uc704\\uae30\\ub97c \\uc870\\uc808\\ud558\\uace0, \\ud2b9\\uc815 \\ubd80\\ubd84\\uc744 \\uac15\\uc870\\ud558\\ub294 \\ud3ec\\uc778\\ud2b8 \\ub77c\\uc774\\ud305\\uc744 \\ud1b5\\ud574 \\uc2dc\\uc120\\uc744 \\uc774\\ub044\\ub294 \\uc5ed\\ud560\\uc744 \\ud569\\ub2c8\\ub2e4. \\ub610\\ud55c, \\uc801\\uc808\\ud55c \\uc870\\uba85\\uc740 \\uacf5\\uac04\\uc744 \\ub354 \\ub113\\uc5b4 \\ubcf4\\uc774\\uac8c \\ud558\\uac70\\ub098 \\ub530\\ub73b\\ud55c \\ubd84\\uc704\\uae30\\ub97c \\uc5f0\\ucd9c\\ud558\\ub294 \\ub370 \\ub3c4\\uc6c0\\uc774 \\ub429\\ub2c8\\ub2e4. \\ub610\\ud55c, \\uc870\\uba85\\uc740 \\uc0c9\\uac10\\uc744 \\ubd80\\uac01\\uc2dc\\ud0a4\\uace0 \\uac00\\uad6c\\ub098 \\uc18c\\ud488 \\ub4f1\\uc744 \\uac15\\uc870\\ud558\\uc5ec \\uacf5\\uac04\\uc5d0 \\uae4a\\uc774\\uc640 \\ucc28\\uc6d0\\uc744 \\ub354\\ud569\\ub2c8\\ub2e4. \\ub530\\ub77c\\uc11c, \\uc870\\uba85\\uc740 \\uc778\\ud14c\\ub9ac\\uc5b4 \\uc804\\uccb4\\uc801\\uc778 \\ub514\\uc790\\uc778\\uacfc \\ubd84\\uc704\\uae30\\ub97c \\uacb0\\uc815\\uc9d3\\ub294 \\uc911\\uc694\\ud55c \\uc5ed\\ud560\\uc744 \\ud558\\uac8c \\ub429\\ub2c8\\ub2e4.\",\n          \"\\ubbf8\\ub2c8\\uba40\\ub9ac\\uc998 \\uc2a4\\ud0c0\\uc77c\\uc744 \\uc0b4\\ub9ac\\uae30 \\uc704\\ud574\\uc11c\\ub294 \\uac04\\uacb0\\ud558\\uace0 \\uae54\\ub054\\ud55c \\ub514\\uc790\\uc778\\uc744 \\uc120\\ud0dd\\ud574\\uc57c \\ud569\\ub2c8\\ub2e4. \\ub2e8\\uc21c\\ud55c \\ud615\\ud0dc\\uc640 \\uc0c9\\uc0c1, \\uaddc\\uce59\\uc801\\uc778 \\ud328\\ud134\\uc744 \\ud65c\\uc6a9\\ud558\\uc5ec \\ubd88\\ud544\\uc694\\ud55c \\uc7a5\\uc2dd\\uc744 \\ucd5c\\uc18c\\ud654\\ud558\\uace0, \\uacf5\\uac04\\uc744 \\uae68\\ub057\\ud558\\uac8c \\uc720\\uc9c0\\ud574\\uc57c \\ud569\\ub2c8\\ub2e4. \\uac00\\uad6c\\ub098 \\uc7a5\\uc2dd\\ud488\\uc744 \\uc120\\ud0dd\\ud560 \\ub54c\\ub294 \\uc120\\uba85\\ud558\\uace0 \\ub2e8\\uc21c\\ud55c \\ud615\\ud0dc\\uc758 \\uc81c\\ud488\\uc744 \\uc120\\ud638\\ud558\\uace0, \\uc911\\uc694\\ud55c \\uac83\\uc740 '\\uc801\\uc808\\ud55c \\ud06c\\uae30'\\uc785\\ub2c8\\ub2e4. \\uc801\\uc808\\ud55c \\ud06c\\uae30\\uc640 \\ube44\\uc728\\uc744 \\uac00\\uc9c4 \\uac00\\uad6c\\uc640 \\uc7a5\\uc2dd\\ud488\\uc744 \\uc120\\ud0dd\\ud558\\uc5ec \\ucc28\\ubd84\\ud558\\uba74\\uc11c\\ub3c4 \\uc138\\ub828\\ub41c \\ubbf8\\ub2c8\\uba40\\ub9ac\\uc998 \\uc2a4\\ud0c0\\uc77c\\uc744 \\uad6c\\ud604\\ud560 \\uc218 \\uc788\\uc2b5\\ub2c8\\ub2e4.\"\n        ],\n        \"num_unique_values\": 644,\n        \"semantic_type\": \"\",\n        \"description\": \"\"\n      }\n    },\n    {\n      \"column\": \"\\ub2f5\\ubcc0_5\",\n      \"properties\": {\n        \"dtype\": \"string\",\n        \"samples\": [\n          \"\\ubd80\\uc5cc\\uc774\\ub098 \\uc695\\uc2e4\\uc758 \\uacb0\\ub85c\\uac00 \\ubc1c\\uc0dd\\ud558\\ub294 \\uac00\\uc7a5 \\ud070 \\uc6d0\\uc778\\uc740 \\uc678\\ubcbd\\uc774\\ub098 \\ube44 \\ub09c\\ubc29\\uacf5\\uac04\\uc5d0 \\uc811\\ud55c \\uba74\\uc774 \\ubcbd\\uccb4\\uc758 \\uc77c\\ubd80\\uc778 \\ubd80\\uc5cc\\uc774\\ub098 \\uc695\\uc2e4\\uc5d0\\uc11c \\uc678\\ubd80\\uc758 \\ucc28\\uac00\\uc6b4 \\ud45c\\uba74 \\uc628\\ub3c4\\uc640 \\ub0b4\\ubd80\\uc758 \\ub192\\uc740 \\uc2b5\\ub3c4\\uac00 \\uacb0\\ub85c\\uac00 \\ubc1c\\uc0dd\\ud560 \\uc218 \\uc788\\ub294 \\ucd5c\\uc801\\uc758 \\uc870\\uac74\\uc774 \\ub429\\ub2c8\\ub2e4. \\ud2b9\\ud788, \\ud55c\\ubc29\\ud5a5 \\ud1b5\\ud48d\\uc774 \\uc5b4\\ub835\\uace0 \\ubcbd\\uba74\\uc774 \\uc624\\ub7ab\\ub3d9\\uc548 \\uc2b5\\uae30\\uc5d0 \\ub178\\ucd9c\\ub418\\ub294 \\ud658\\uacbd\\uc5d0\\uc11c \\uacb0\\ub85c\\uac00 \\uc2ec\\ud574\\uc9c8 \\uc218 \\uc788\\uc2b5\\ub2c8\\ub2e4.itchens or bathrooms are susceptible to condensation due to their exposure to cold exterior walls or unheated spaces. This creates optimal conditions for condensation to occur, with the combination of cold exterior surfaces and high interior humidity. Additionally, poor ventilation and prolonged exposure to moisture can exacerbate the problem.\",\n          \"\\uc870\\uba85\\uc740 \\uc778\\ud14c\\ub9ac\\uc5b4 \\ub514\\uc790\\uc778\\uc5d0\\uc11c \\ub9e4\\uc6b0 \\uc911\\uc694\\ud55c \\uc5ed\\ud560\\uc744 \\ud569\\ub2c8\\ub2e4. \\uadf8\\uac83\\uc740 \\uacf5\\uac04\\uc758 \\ubd84\\uc704\\uae30, \\ud3ec\\uc778\\ud2b8 \\ub77c\\uc774\\ud305 \\ubc0f \\uc2dc\\uc120\\uc744 \\uc870\\uc808\\ud558\\ub294 \\ub370 \\uc0ac\\uc6a9\\ub429\\ub2c8\\ub2e4. \\ub354\\ubd88\\uc5b4, \\uc801\\uc808\\ud55c \\uc870\\uba85\\uc740 \\uacf5\\uac04\\uc744 \\ub354 \\ub113\\uc5b4 \\ubcf4\\uc774\\uac8c \\ud558\\uac70\\ub098 \\uac15\\uc870\\ud560 \\uc218 \\uc788\\uc73c\\uba70, \\uc0c9\\uac10\\uacfc \\ud615\\ud0dc\\ub97c \\ubd80\\uac01\\uc2dc\\ud0b4\\uc73c\\ub85c\\uc368 \\uacf5\\uac04\\uc758 \\ubbf8\\uc801 \\uc694\\uc18c\\ub97c \\ud5a5\\uc0c1\\uc2dc\\ud0b5\\ub2c8\\ub2e4. \\ub610\\ud55c, \\ub2e4\\uc591\\ud55c \\uc870\\uba85 \\uc885\\ub958\\uc640 \\uc124\\uce58 \\ubc29\\ubc95\\uc744 \\uc870\\ud569\\ud558\\uc5ec \\uacf5\\uac04\\uc758 \\uae30\\ub2a5\\uc131\\uacfc \\uc2dc\\uac01\\uc801 \\ub9e4\\ub825\\uc744 \\ud5a5\\uc0c1\\uc2dc\\ud0ac \\uc218 \\uc788\\uc2b5\\ub2c8\\ub2e4. \\ub530\\ub77c\\uc11c \\uc870\\uba85\\uc740 \\uc778\\ud14c\\ub9ac\\uc5b4 \\ub514\\uc790\\uc778\\uc5d0\\uc11c \\ud544\\uc218\\uc801\\uc778 \\uc5ed\\ud560\\uc744 \\ud569\\ub2c8\\ub2e4.\",\n          \"\\ubbf8\\ub2c8\\uba40\\ub9ac\\uc998 \\uc2a4\\ud0c0\\uc77c\\uc744 \\uc0b4\\ub9ac\\uae30 \\uc704\\ud574\\uc11c\\ub294 \\uac04\\uacb0\\ud558\\uace0 \\uae54\\ub054\\ud55c \\ub514\\uc790\\uc778\\uc744 \\uc120\\ud0dd\\ud574\\uc57c \\ud569\\ub2c8\\ub2e4. \\ub2e8\\uc21c\\ud55c \\ud615\\ud0dc\\uc640 \\uc0c9\\uc0c1, \\uaddc\\uce59\\uc801\\uc778 \\ud328\\ud134\\uc744 \\ud65c\\uc6a9\\ud558\\uc5ec \\ubd88\\ud544\\uc694\\ud55c \\uc7a5\\uc2dd\\uc744 \\ucd5c\\uc18c\\ud654\\ud558\\ub294 \\uac83\\uc774 \\uc911\\uc694\\ud569\\ub2c8\\ub2e4. \\uac00\\uad6c\\ub098 \\uc18c\\ud488\\uc744 \\uc120\\ud0dd\\ud560 \\ub54c\\uc5d0\\ub294 \\uae54\\ub054\\ud55c \\uc9c1\\uc120\\uc774\\ub098 \\uace1\\uc120\\uc744 \\ud65c\\uc6a9\\ud55c \\ub514\\uc790\\uc778\\uc744 \\uace0\\ub974\\ub294 \\uac83\\uc774 \\uc88b\\uc2b5\\ub2c8\\ub2e4. \\ub610\\ud55c, \\uac01 \\uc694\\uc18c\\ub4e4\\uc744 \\ucd5c\\uc18c\\ud55c\\uc73c\\ub85c \\ubc30\\uce58\\ud558\\uace0 \\uacf5\\uac04\\uc744 \\ud65c\\uc6a9\\ud558\\uc5ec \\uae54\\ub054\\ud558\\uace0 \\uc870\\ud654\\ub85c\\uc6b4 \\uc778\\ud14c\\ub9ac\\uc5b4\\ub97c \\uc644\\uc131\\ud560 \\uc218 \\uc788\\uc2b5\\ub2c8\\ub2e4.\"\n        ],\n        \"num_unique_values\": 644,\n        \"semantic_type\": \"\",\n        \"description\": \"\"\n      }\n    }\n  ]\n}"
            }
          },
          "metadata": {},
          "execution_count": 6
        }
      ]
    },
    {
      "cell_type": "code",
      "source": [
        "train_df['category'].value_counts()"
      ],
      "metadata": {
        "colab": {
          "base_uri": "https://localhost:8080/",
          "height": 0
        },
        "id": "iQRqXJbLefJh",
        "outputId": "5308e2f9-2fb8-49b5-c69c-1bd6430cd096"
      },
      "execution_count": 7,
      "outputs": [
        {
          "output_type": "execute_result",
          "data": {
            "text/plain": [
              "마감재       272\n",
              "인테리어      123\n",
              "시공        111\n",
              "마감하자       60\n",
              "건축구조       31\n",
              "기타         27\n",
              "타 마감하자     20\n",
              "Name: category, dtype: int64"
            ]
          },
          "metadata": {},
          "execution_count": 7
        }
      ]
    },
    {
      "cell_type": "markdown",
      "source": [
        "### 키워드 추출"
      ],
      "metadata": {
        "id": "6PU5WF58foov"
      }
    },
    {
      "cell_type": "code",
      "source": [
        "from keybert import KeyBERT\n",
        "from kiwipiepy import Kiwi\n",
        "from transformers import BertModel"
      ],
      "metadata": {
        "id": "S72widzAekMA"
      },
      "execution_count": 8,
      "outputs": []
    },
    {
      "cell_type": "code",
      "source": [
        "model = BertModel.from_pretrained('skt/kobert-base-v1')\n",
        "kw_model = KeyBERT(model)"
      ],
      "metadata": {
        "id": "-21Mbiy4eyPW"
      },
      "execution_count": 12,
      "outputs": []
    },
    {
      "cell_type": "code",
      "source": [
        "text = train_df['답변_5'][0]\n",
        "\n",
        "keywords = kw_model.extract_keywords(text, keyphrase_ngram_range=(1, 2), stop_words=None, top_n=3)\n",
        "keywords"
      ],
      "metadata": {
        "colab": {
          "base_uri": "https://localhost:8080/",
          "height": 0
        },
        "id": "eQlp1SXkfK84",
        "outputId": "992fbdbc-86c5-4f5a-e5c5-04feed7dba13"
      },
      "execution_count": 18,
      "outputs": [
        {
          "output_type": "execute_result",
          "data": {
            "text/plain": [
              "[('진동 에너지의', 0.4812), ('진동의 영향을', 0.4738), ('에너지의 영향을', 0.4428)]"
            ]
          },
          "metadata": {},
          "execution_count": 18
        }
      ]
    },
    {
      "cell_type": "markdown",
      "source": [
        "#### 명사만 추출"
      ],
      "metadata": {
        "id": "A0AZuR4gfrva"
      }
    },
    {
      "cell_type": "code",
      "source": [
        "kiwi = Kiwi()\n",
        "kiwi.analyze(text)"
      ],
      "metadata": {
        "colab": {
          "base_uri": "https://localhost:8080/",
          "height": 0
        },
        "id": "9tRamUqbfdGx",
        "outputId": "ff24a152-f3f4-4d95-e760-9ffdff791268"
      },
      "execution_count": 19,
      "outputs": [
        {
          "output_type": "execute_result",
          "data": {
            "text/plain": [
              "[([Token(form='면', tag='NNG', start=0, len=1),\n",
              "   Token(form='지', tag='VV', start=1, len=1),\n",
              "   Token(form='ᆫ', tag='ETM', start=1, len=1),\n",
              "   Token(form='장치', tag='NNG', start=2, len=2),\n",
              "   Token(form='는', tag='JX', start=4, len=1),\n",
              "   Token(form='건물', tag='NNG', start=6, len=2),\n",
              "   Token(form='에', tag='JKB', start=8, len=1),\n",
              "   Token(form='오', tag='VV', start=10, len=1),\n",
              "   Token(form='는', tag='ETM', start=11, len=1),\n",
              "   Token(form='지반', tag='NNG', start=13, len=2),\n",
              "   Token(form='진동', tag='NNG', start=16, len=2),\n",
              "   Token(form='의', tag='JKG', start=18, len=1),\n",
              "   Token(form='영향', tag='NNG', start=20, len=2),\n",
              "   Token(form='을', tag='JKO', start=22, len=1),\n",
              "   Token(form='최대한', tag='NNG', start=24, len=3),\n",
              "   Token(form='으로', tag='JKB', start=27, len=2),\n",
              "   Token(form='흡수', tag='NNG', start=30, len=2),\n",
              "   Token(form='하', tag='XSV', start=32, len=1),\n",
              "   Token(form='어', tag='EC', start=33, len=1),\n",
              "   Token(form='건물', tag='NNG', start=35, len=2),\n",
              "   Token(form='에', tag='JKB', start=37, len=1),\n",
              "   Token(form='전달', tag='NNG', start=39, len=2),\n",
              "   Token(form='되', tag='XSV', start=41, len=1),\n",
              "   Token(form='는', tag='ETM', start=42, len=1),\n",
              "   Token(form='진동', tag='NNG', start=44, len=2),\n",
              "   Token(form='을', tag='JKO', start=46, len=1),\n",
              "   Token(form='줄이', tag='VV', start=48, len=2),\n",
              "   Token(form='어', tag='EC', start=49, len=1),\n",
              "   Token(form='주', tag='VX', start=50, len=1),\n",
              "   Token(form='는', tag='ETM', start=51, len=1),\n",
              "   Token(form='장치', tag='NNG', start=53, len=2),\n",
              "   Token(form='이', tag='VCP', start=55, len=1),\n",
              "   Token(form='ᆸ니다', tag='EF', start=55, len=3),\n",
              "   Token(form='.', tag='SF', start=58, len=1),\n",
              "   Token(form='지반', tag='NNG', start=60, len=2),\n",
              "   Token(form='으로부터', tag='JKB', start=62, len=4),\n",
              "   Token(form='오', tag='VV', start=67, len=1),\n",
              "   Token(form='는', tag='ETM', start=68, len=1),\n",
              "   Token(form='진동', tag='NNG', start=70, len=2),\n",
              "   Token(form='에너지', tag='NNG', start=73, len=3),\n",
              "   Token(form='의', tag='JKG', start=76, len=1),\n",
              "   Token(form='영향', tag='NNG', start=78, len=2),\n",
              "   Token(form='을', tag='JKO', start=80, len=1),\n",
              "   Token(form='완화', tag='NNG', start=82, len=2),\n",
              "   Token(form='시키', tag='XSV', start=84, len=2),\n",
              "   Token(form='기', tag='ETN', start=86, len=1),\n",
              "   Token(form='위하', tag='VV', start=88, len=2),\n",
              "   Token(form='어', tag='EC', start=89, len=1),\n",
              "   Token(form='사용', tag='NNG', start=91, len=2),\n",
              "   Token(form='되', tag='XSV', start=93, len=1),\n",
              "   Token(form='ᆸ니다', tag='EF', start=93, len=3),\n",
              "   Token(form='.', tag='SF', start=96, len=1)],\n",
              "  -268.90032958984375)]"
            ]
          },
          "metadata": {},
          "execution_count": 19
        }
      ]
    },
    {
      "cell_type": "markdown",
      "source": [
        "키워드 추출을 위해 tag가 N으로 시작하는 명사만 남기자"
      ],
      "metadata": {
        "id": "o3XpSvxAgAQw"
      }
    },
    {
      "cell_type": "code",
      "source": [
        "# 명사 추출 함수\n",
        "def noun_extractor(text):\n",
        "    results = []\n",
        "    result = kiwi.analyze(text)\n",
        "    for token, pos, _, _ in result[0][0]:\n",
        "        if len(token) != 1 and pos.startswith('N') or pos.startswith('SL'): # 명사와 알파벳\n",
        "            results.append(token)\n",
        "    return results"
      ],
      "metadata": {
        "id": "jmlwhIIOfz_0"
      },
      "execution_count": 20,
      "outputs": []
    },
    {
      "cell_type": "code",
      "source": [
        "nouns = noun_extractor(text)\n",
        "nouns"
      ],
      "metadata": {
        "colab": {
          "base_uri": "https://localhost:8080/",
          "height": 0
        },
        "id": "CkdgW_QNgdns",
        "outputId": "3823b34a-fd9a-4ddb-abeb-20b8a11bdb43"
      },
      "execution_count": 21,
      "outputs": [
        {
          "output_type": "execute_result",
          "data": {
            "text/plain": [
              "['장치',\n",
              " '건물',\n",
              " '지반',\n",
              " '진동',\n",
              " '영향',\n",
              " '최대한',\n",
              " '흡수',\n",
              " '건물',\n",
              " '전달',\n",
              " '진동',\n",
              " '장치',\n",
              " '지반',\n",
              " '진동',\n",
              " '에너지',\n",
              " '영향',\n",
              " '완화',\n",
              " '사용']"
            ]
          },
          "metadata": {},
          "execution_count": 21
        }
      ]
    },
    {
      "cell_type": "markdown",
      "source": [
        "인테리어 관련 전문 용어가 형태소 분석기에 없어서 `면진`을 추출하지 못한다..."
      ],
      "metadata": {
        "id": "aMIFq4TPhd6o"
      }
    },
    {
      "cell_type": "code",
      "source": [
        "text = ' '.join(nouns)\n",
        "text"
      ],
      "metadata": {
        "colab": {
          "base_uri": "https://localhost:8080/",
          "height": 35
        },
        "id": "7IX1fbbBhYSd",
        "outputId": "6c346739-cf54-4dff-b1f9-e2f75fa914f1"
      },
      "execution_count": 23,
      "outputs": [
        {
          "output_type": "execute_result",
          "data": {
            "text/plain": [
              "'장치 건물 지반 진동 영향 최대한 흡수 건물 전달 진동 장치 지반 진동 에너지 영향 완화 사용'"
            ],
            "application/vnd.google.colaboratory.intrinsic+json": {
              "type": "string"
            }
          },
          "metadata": {},
          "execution_count": 23
        }
      ]
    },
    {
      "cell_type": "code",
      "source": [
        "keywords = kw_model.extract_keywords(text, keyphrase_ngram_range=(1, 1), stop_words=None, top_n=20)\n",
        "keywords"
      ],
      "metadata": {
        "colab": {
          "base_uri": "https://localhost:8080/"
        },
        "id": "rmNHgvlchhg_",
        "outputId": "0b0cec18-312d-4e75-b147-46242c7518aa"
      },
      "execution_count": 24,
      "outputs": [
        {
          "output_type": "execute_result",
          "data": {
            "text/plain": [
              "[('에너지', 0.4803),\n",
              " ('장치', 0.47),\n",
              " ('건물', 0.4483),\n",
              " ('진동', 0.3663),\n",
              " ('사용', 0.3437),\n",
              " ('영향', 0.3074),\n",
              " ('전달', 0.2588),\n",
              " ('흡수', 0.2558),\n",
              " ('완화', 0.2086),\n",
              " ('최대한', 0.1943),\n",
              " ('지반', 0.1522)]"
            ]
          },
          "metadata": {},
          "execution_count": 24
        }
      ]
    },
    {
      "cell_type": "code",
      "source": [],
      "metadata": {
        "id": "5_UrWDzUhkP6"
      },
      "execution_count": null,
      "outputs": []
    }
  ]
}