{
  "nbformat": 4,
  "nbformat_minor": 0,
  "metadata": {
    "colab": {
      "provenance": [],
      "mount_file_id": "1DlgPjE2h7vCz81gZ0lX1kImx3xMJEacw",
      "authorship_tag": "ABX9TyO1WD3Hj1wYLM6xfuV8xsnp",
      "include_colab_link": true
    },
    "kernelspec": {
      "name": "python3",
      "display_name": "Python 3"
    },
    "language_info": {
      "name": "python"
    }
  },
  "cells": [
    {
      "cell_type": "markdown",
      "metadata": {
        "id": "view-in-github",
        "colab_type": "text"
      },
      "source": [
        "<a href=\"https://colab.research.google.com/github/Five-Star-Station/Hansol_QA/blob/main/simso/test_question_split.ipynb\" target=\"_parent\"><img src=\"https://colab.research.google.com/assets/colab-badge.svg\" alt=\"Open In Colab\"/></a>"
      ]
    },
    {
      "cell_type": "code",
      "execution_count": 2,
      "metadata": {
        "colab": {
          "base_uri": "https://localhost:8080/"
        },
        "id": "lf4PuF9RO-5G",
        "outputId": "cc027462-a952-4bfd-d7d4-4341036e0a74"
      },
      "outputs": [
        {
          "output_type": "stream",
          "name": "stdout",
          "text": [
            "Collecting kiwipiepy\n",
            "  Downloading kiwipiepy-0.16.2-cp310-cp310-manylinux_2_17_x86_64.manylinux2014_x86_64.whl (2.8 MB)\n",
            "\u001b[2K     \u001b[90m━━━━━━━━━━━━━━━━━━━━━━━━━━━━━━━━━━━━━━━━\u001b[0m \u001b[32m2.8/2.8 MB\u001b[0m \u001b[31m9.7 MB/s\u001b[0m eta \u001b[36m0:00:00\u001b[0m\n",
            "\u001b[?25hCollecting kiwipiepy-model~=0.16 (from kiwipiepy)\n",
            "  Downloading kiwipiepy_model-0.16.0.tar.gz (30.8 MB)\n",
            "\u001b[2K     \u001b[90m━━━━━━━━━━━━━━━━━━━━━━━━━━━━━━━━━━━━━━━━\u001b[0m \u001b[32m30.8/30.8 MB\u001b[0m \u001b[31m8.9 MB/s\u001b[0m eta \u001b[36m0:00:00\u001b[0m\n",
            "\u001b[?25h  Preparing metadata (setup.py) ... \u001b[?25l\u001b[?25hdone\n",
            "Requirement already satisfied: numpy in /usr/local/lib/python3.10/dist-packages (from kiwipiepy) (1.25.2)\n",
            "Requirement already satisfied: tqdm in /usr/local/lib/python3.10/dist-packages (from kiwipiepy) (4.66.2)\n",
            "Building wheels for collected packages: kiwipiepy-model\n",
            "  Building wheel for kiwipiepy-model (setup.py) ... \u001b[?25l\u001b[?25hdone\n",
            "  Created wheel for kiwipiepy-model: filename=kiwipiepy_model-0.16.0-py3-none-any.whl size=30813256 sha256=a4c090ced65b50a3f83a7209283bbfe2b57eb6df37f58b17eb33d260258a75d3\n",
            "  Stored in directory: /root/.cache/pip/wheels/6b/03/2b/ac2c97cc65ebd9df3516f4b900adc2f0a744df8d1375b2e2ef\n",
            "Successfully built kiwipiepy-model\n",
            "Installing collected packages: kiwipiepy-model, kiwipiepy\n",
            "Successfully installed kiwipiepy-0.16.2 kiwipiepy-model-0.16.0\n"
          ]
        }
      ],
      "source": [
        "!pip install kiwipiepy"
      ]
    },
    {
      "cell_type": "code",
      "source": [
        "import re\n",
        "\n",
        "import numpy as np\n",
        "import pandas as pd\n",
        "\n",
        "from kiwipiepy import Kiwi"
      ],
      "metadata": {
        "id": "VRKvtwaxPQtl"
      },
      "execution_count": 3,
      "outputs": []
    },
    {
      "cell_type": "code",
      "source": [
        "base_path = '/content/drive/MyDrive/Colab Notebooks/data/dacon-hansol-qa/'\n",
        "train_df = pd.read_csv(base_path + 'train.csv')\n",
        "test_df = pd.read_csv(base_path + 'test.csv')\n",
        "submission_df = pd.read_csv(base_path + 'sample_submission.csv')"
      ],
      "metadata": {
        "id": "0MoNkwfZUbG5"
      },
      "execution_count": 9,
      "outputs": []
    },
    {
      "cell_type": "code",
      "source": [
        "kiwi = Kiwi()"
      ],
      "metadata": {
        "id": "M9u7em3SPR3M"
      },
      "execution_count": 4,
      "outputs": []
    },
    {
      "cell_type": "code",
      "source": [
        "test_queries = [\n",
        "    \"다이닝 룸을 더 고급스럽게 꾸밀려면 어떻게 해야 하나요와 아레카 야자를 키우면 어떤 이점이 있는지의 관계는 무엇인가요?\",\n",
        "    \"물 누수로 인한 곰팡이와 곰팡이 냄새를 제거하는 데 사용할 수 있는 가정용 청소용품이 있을까요? 그리고 펫테리어가 무엇인지 자세히 알려주세요.\",\n",
        "    \"입구나 복도의 표면에 사용하기 적합한 페인트 종류는 무엇이며, 이 공간을 환영스럽게 꾸미는 데 있어 어떤 인테리어 요소가 중요한가요?\",\n",
        "    \"아파트 도배 평수를 계산하는 방법과 소화기 설치 시 주의해야 할 사항에 대해 설명해줄 수 있나요?\"\n",
        "]"
      ],
      "metadata": {
        "id": "QPPQEoinPS1i"
      },
      "execution_count": 20,
      "outputs": []
    },
    {
      "cell_type": "code",
      "source": [
        "def preprocess_query(query: str) -> list[str]:\n",
        "    # 1. 문장 나누기\n",
        "    pattern = r\"(.+)와 (.+)의 관계는 무엇인가요\\?\"\n",
        "    matches = re.findall(pattern, query)\n",
        "    if matches:\n",
        "        queries = [*matches[0]]\n",
        "    else:\n",
        "        queries = [q.text for q in kiwi.split_into_sents(query)]\n",
        "\n",
        "    # 2. 문장 다듬기\n",
        "    # 삭제할 형태소\n",
        "    stoptags = ['SSC', 'SSO', 'SF']\n",
        "    # MAG 형태소 중 삭제할 것만\n",
        "    stopwords = ['좀', '자세히', '더', '빨리', '특히', '없이', '너무', '가장', '많이', '특별히', '바로', '주로', '또한', '그리고', ',']\n",
        "    processed_queries = []\n",
        "    for q in queries:\n",
        "        tokens = kiwi.tokenize(q)\n",
        "        selected_tokens = []\n",
        "        for t in tokens:\n",
        "            if t.form == '설명' or t.tagged_form == '알리/VV':\n",
        "                break\n",
        "            if t.tag not in stoptags and t.form not in stopwords:\n",
        "                selected_tokens.append(t)\n",
        "            else:\n",
        "                continue\n",
        "        q_new = kiwi.join(selected_tokens)\n",
        "        processed_queries.append(q_new)\n",
        "\n",
        "    return processed_queries"
      ],
      "metadata": {
        "id": "33xirUWnPUeC"
      },
      "execution_count": 31,
      "outputs": []
    },
    {
      "cell_type": "code",
      "source": [
        "list(map(lambda x:preprocess_query(x), test_queries))"
      ],
      "metadata": {
        "colab": {
          "base_uri": "https://localhost:8080/"
        },
        "id": "pMfVTwTiPV1W",
        "outputId": "2bdd3873-c6d5-480a-e144-aead34bb36f5"
      },
      "execution_count": 32,
      "outputs": [
        {
          "output_type": "execute_result",
          "data": {
            "text/plain": [
              "[['다이닝 룸을 고급스럽게 꾸밀려면 어떻게 해야 하나요', '아레카 야자를 키우면 어떤 이점이 있는지'],\n",
              " ['물 누수로 인한 곰팡이와 곰팡이 냄새를 제거하는 데 사용할 수 있는 가정용 청소용품이 있을까요', '펫테리어가 무엇인지'],\n",
              " ['입구나 복도의 표면에 사용하기 적합한 페인트 종류는 무엇이며 이 공간을 환영스럽게 꾸미는 데 있어 어떤 인테리어 요소가 중요한가요'],\n",
              " ['아파트 도배 평수를 계산하는 방법과 소화기 설치 시 주의해야 할 사항에 대해']]"
            ]
          },
          "metadata": {},
          "execution_count": 32
        }
      ]
    },
    {
      "cell_type": "code",
      "source": [
        "test_df['질문'].map(lambda x: preprocess_query(x))"
      ],
      "metadata": {
        "colab": {
          "base_uri": "https://localhost:8080/"
        },
        "id": "WXcEVN_PTt3m",
        "outputId": "20c6bc47-a7c7-4439-a8d4-3257242b9f2f"
      },
      "execution_count": 33,
      "outputs": [
        {
          "output_type": "execute_result",
          "data": {
            "text/plain": [
              "0      [방청 페인트의 종류에는 어떤 것들이 있는지 알고 계신가요, 원목사이딩을 사용하는 ...\n",
              "1               [도배지에 녹은 자국이 발생하는 주된 원인과 그 해결 방법은 무엇인가요]\n",
              "2                 [큐블럭의 단점을, 압출법 단열판을 사용하는 것의 장점은 무엇인가요]\n",
              "3      [철골구조를 사용하는 고층 건물에서 단열 효과를 높이기 위한 시공 방법은 무엇이 있...\n",
              "4                      [도배지의 완전한 건조를 위해 몇 주 동안 기다려야 하나요]\n",
              "                             ...                        \n",
              "125    [분말 소화기를 사용할 때 주의해야 할 사항은 무엇인가요, 아파트 도배 평수를 어떻...\n",
              "126                               [압출법 보온판의 큰 장점은 무엇인가요]\n",
              "127    [평지붕의 누수 문제를 방지하기 위해 수성 벽체용 탄성 방수 도료를 사용하는 것이 ...\n",
              "128             [석고수정이 발생하는 큰 원인은 무엇인가요, 이를 해결하는 방법에 대해]\n",
              "129          [카페트의 기대 수명은 얼마나 될까요, 오리지널징크의 장점에는 무엇이 있나요]\n",
              "Name: 질문, Length: 130, dtype: object"
            ]
          },
          "metadata": {},
          "execution_count": 33
        }
      ]
    },
    {
      "cell_type": "code",
      "source": [],
      "metadata": {
        "id": "He5AIFnkV1xT"
      },
      "execution_count": null,
      "outputs": []
    }
  ]
}