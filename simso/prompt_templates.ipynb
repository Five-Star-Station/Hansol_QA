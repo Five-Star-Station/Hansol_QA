{
  "nbformat": 4,
  "nbformat_minor": 0,
  "metadata": {
    "colab": {
      "provenance": [],
      "authorship_tag": "ABX9TyP0ZMsN1VFHv47gA1iC4pBl",
      "include_colab_link": true
    },
    "kernelspec": {
      "name": "python3",
      "display_name": "Python 3"
    },
    "language_info": {
      "name": "python"
    }
  },
  "cells": [
    {
      "cell_type": "markdown",
      "metadata": {
        "id": "view-in-github",
        "colab_type": "text"
      },
      "source": [
        "<a href=\"https://colab.research.google.com/github/Five-Star-Station/Hansol_QA/blob/main/simso/prompt_templates.ipynb\" target=\"_parent\"><img src=\"https://colab.research.google.com/assets/colab-badge.svg\" alt=\"Open In Colab\"/></a>"
      ]
    },
    {
      "cell_type": "markdown",
      "source": [
        "# 프롬프트 템플릿 1.1\n",
        "- 1.1 : yanolja/EEVE-Korean-Instruct-10.8B-v1.0 추가"
      ],
      "metadata": {
        "id": "r07ikO15hNmD"
      }
    },
    {
      "cell_type": "markdown",
      "source": [
        "## yanolja/EEVE-Korean-Instruct-10.8B-v1.0\n",
        "- default\n",
        "```\n",
        " A chat between a curious user and an artificial intelligence assistant. The assistant gives helpful, detailed, and polite answers to the user's questions.\n",
        "Human: {prompt}\n",
        "Assistant:\n",
        "```"
      ],
      "metadata": {
        "id": "xrJYqe3JaWlp"
      }
    },
    {
      "cell_type": "code",
      "source": [
        "evee_template = \\\n",
        "\"\"\"A chat between a curious user and an artificial intelligence assistant. The assistant provides a valid answer to a user's question following the given document.\n",
        "Document: {context}\n",
        "\n",
        "Human: {question}\n",
        "\n",
        "Assistant:\"\"\"\n",
        "# EVEE 기본 템플릿 참고\n",
        "\n",
        "\"\"\"### System:\n",
        "You are an helpful assistant of interior consultants. Your task is to give a valid answer to a user's question following the given information:\n",
        "\n",
        "{context}\n",
        "\n",
        "### User:\n",
        "{question}\n",
        "\n",
        "### Assistant:\n",
        "\"\"\"\n",
        "# upstage/SOLAR-10.7B-Instruct-v1.0 참고"
      ],
      "metadata": {
        "id": "9IFAivBjaZvY",
        "colab": {
          "base_uri": "https://localhost:8080/",
          "height": 53
        },
        "outputId": "8f8cc87f-e80c-4482-a8c4-4a279ffff9a2"
      },
      "execution_count": 3,
      "outputs": [
        {
          "output_type": "execute_result",
          "data": {
            "text/plain": [
              "\"### System: \\nYou are an helpful assistant of interior consultants. Your task is to give a valid answer to a user's question following the given information:\\n\\n{context}\\n\\n### User: \\n{question}\\n\\n### Assistant:\\n\""
            ],
            "application/vnd.google.colaboratory.intrinsic+json": {
              "type": "string"
            }
          },
          "metadata": {},
          "execution_count": 3
        }
      ]
    },
    {
      "cell_type": "markdown",
      "source": [
        "## Mistral\n",
        "- default\n",
        "```\n",
        "<s>[INST] Instruction [/INST] Model answer</s>[INST] Follow-up instruction [/INST]\n",
        "```"
      ],
      "metadata": {
        "id": "WgdlURb0hN8_"
      }
    },
    {
      "cell_type": "code",
      "source": [
        "mistral_template = \\\n",
        "\"\"\"[INST] You are an helpful assistant for construction and interior. Your task is to generate a valid answer based on the given information:\n",
        "\n",
        "{context}\n",
        "\n",
        "Question: {question} [/INST]\"\"\""
      ],
      "metadata": {
        "id": "bNwKfnuygu5g"
      },
      "execution_count": null,
      "outputs": []
    },
    {
      "cell_type": "markdown",
      "source": [
        "## Solar\n",
        "- default\n",
        "```\n",
        "### System:\n",
        "{System}\n",
        "### User:\n",
        "{User}\n",
        "### Assistant:\n",
        "{Assistant}\n",
        "```"
      ],
      "metadata": {
        "id": "8O-aG3_cilhc"
      }
    },
    {
      "cell_type": "code",
      "source": [
        "solar_template = \\\n",
        "\"\"\" ### System: You are an helpful assistant of interior consultants. Your task is to generate a valid answer to a user's question based on the given information:\n",
        "\n",
        "{context}\n",
        "\n",
        "### User:\n",
        "{question}\n",
        "\n",
        "### Assistant:\"\"\""
      ],
      "metadata": {
        "id": "Pz2GOiY1imnu"
      },
      "execution_count": null,
      "outputs": []
    },
    {
      "cell_type": "markdown",
      "source": [
        "## LLaMA2\n",
        "\n",
        "- default\n",
        "```\n",
        "<s>[INST] <<SYS>>\n",
        "{{ system_prompt }}\n",
        "<</SYS>>\n",
        "{{ user_message }} [/INST]\n",
        "```"
      ],
      "metadata": {
        "id": "c-tSA771oEz5"
      }
    },
    {
      "cell_type": "code",
      "source": [
        "llama2_template = \\\n",
        "\"\"\"<s>[INST] <<SYS>>\n",
        "You are an helpful assistant for construction and interior. Your task is to generate a valid answer based on the given information:\n",
        "\n",
        "{context}\n",
        "\n",
        "<</SYS>>\n",
        "{question} [/INST]\n",
        "\"\"\""
      ],
      "metadata": {
        "id": "w3o5Qlz7oIcn"
      },
      "execution_count": null,
      "outputs": []
    },
    {
      "cell_type": "markdown",
      "source": [
        "## Gemini\n",
        "\n",
        "- default\n",
        "```\n",
        "...\n",
        "\"contents\": [\n",
        "    {\n",
        "      \"role\": \"USER\",\n",
        "      \"parts\": [\n",
        "        {\"text\" : {{ prompt }}\n",
        "        ...\n",
        "        }\n",
        "      ]\n",
        "    }\n",
        "]\n",
        "```"
      ],
      "metadata": {
        "id": "Z0K6ee2OmkAM"
      }
    },
    {
      "cell_type": "code",
      "source": [
        "gemini_template = \\\n",
        "\"\"\" You are an helpful assistant for construction and interior. Your task is to generate a valid answer based on the given information:\n",
        "\n",
        "{context}\n",
        "\n",
        "Question: {question}\n",
        "Answer: \"\"\""
      ],
      "metadata": {
        "id": "mr1xBSNQmxMt"
      },
      "execution_count": null,
      "outputs": []
    },
    {
      "cell_type": "markdown",
      "source": [
        "## GPT4 (api)\n",
        "- default\n",
        "```\n",
        "{\"role\": \"system\", \"content\": {{ system_prompt }},\n",
        " \"role\": \"user\", \"content\": {{ user_message }} }\n",
        "```"
      ],
      "metadata": {
        "id": "pHC91iEgoEQL"
      }
    },
    {
      "cell_type": "code",
      "source": [
        "gpt4_system_prompt = \\\n",
        "\"\"\"You are an helpful assistant for construction and interior. Your task is to generate a valid answer based on the given information:\n",
        "\n",
        "{context}\n",
        "\"\"\"\n",
        "gpt4_user_message = \\\n",
        "\"\"\"{question}\n",
        "\"\"\""
      ],
      "metadata": {
        "id": "ngdVPWORp03O"
      },
      "execution_count": null,
      "outputs": []
    }
  ]
}