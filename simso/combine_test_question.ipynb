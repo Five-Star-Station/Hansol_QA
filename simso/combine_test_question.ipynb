{
  "nbformat": 4,
  "nbformat_minor": 0,
  "metadata": {
    "colab": {
      "provenance": [],
      "mount_file_id": "14iDC9tb9GuDqzrsphhbiniP-ASm4bvdo",
      "authorship_tag": "ABX9TyO+4fRL3ArQWiuYJ2t4FZuz",
      "include_colab_link": true
    },
    "kernelspec": {
      "name": "python3",
      "display_name": "Python 3"
    },
    "language_info": {
      "name": "python"
    }
  },
  "cells": [
    {
      "cell_type": "markdown",
      "metadata": {
        "id": "view-in-github",
        "colab_type": "text"
      },
      "source": [
        "<a href=\"https://colab.research.google.com/github/Five-Star-Station/Hansol_QA/blob/main/simso/combine_test_question.ipynb\" target=\"_parent\"><img src=\"https://colab.research.google.com/assets/colab-badge.svg\" alt=\"Open In Colab\"/></a>"
      ]
    },
    {
      "cell_type": "code",
      "source": [
        "import re\n",
        "import random\n",
        "from itertools import combinations\n",
        "\n",
        "import numpy as np\n",
        "import pandas as pd"
      ],
      "metadata": {
        "id": "c7TTPjJUXKee"
      },
      "execution_count": 18,
      "outputs": []
    },
    {
      "cell_type": "code",
      "source": [
        "base_path = '/content/drive/MyDrive/Colab Notebooks/data/dacon-hansol-qa/'\n",
        "train_df = pd.read_csv(base_path + 'train.csv')\n",
        "test_df = pd.read_csv(base_path + 'test.csv')\n",
        "submission_df = pd.read_csv(base_path + 'sample_submission.csv')"
      ],
      "metadata": {
        "id": "LXwJY7JOXZ6G"
      },
      "execution_count": 14,
      "outputs": []
    },
    {
      "cell_type": "code",
      "source": [
        "q_comb = combinations(train_df[\"질문_2\"], 2)\n",
        "a_comb = combinations(train_df[\"답변_2\"], 2)"
      ],
      "metadata": {
        "id": "6Bp-TPmKKNzd"
      },
      "execution_count": 98,
      "outputs": []
    },
    {
      "cell_type": "code",
      "source": [
        "q_combined = []\n",
        "a_combined = []\n",
        "and_word_list = [\"그리고\", \"또한,\"]\n",
        "for (q1, q2), a in zip(q_comb, a_comb):\n",
        "    and_word = random.choices(and_word_list, [0.6, 0.4], k=1)[0]\n",
        "    new_q = \" \".join([q1, and_word, q2])\n",
        "    new_a = \" \".join(a)\n",
        "    q_combined.append(new_q)\n",
        "    a_combined.append(new_a)"
      ],
      "metadata": {
        "id": "5wbagnaHKjPE"
      },
      "execution_count": 99,
      "outputs": []
    },
    {
      "cell_type": "code",
      "source": [
        "df_train_combined = pd.DataFrame({\"question\": q_combined, \"answer\": a_combined})"
      ],
      "metadata": {
        "id": "hT1AGFm_LYmv"
      },
      "execution_count": 101,
      "outputs": []
    },
    {
      "cell_type": "code",
      "source": [
        "df_train_combined.to_csv('/content/train_combined.csv', index=False)"
      ],
      "metadata": {
        "id": "fzc4wBVyNJ_F"
      },
      "execution_count": 104,
      "outputs": []
    },
    {
      "cell_type": "code",
      "source": [],
      "metadata": {
        "id": "GHFbWzpzOPNe"
      },
      "execution_count": null,
      "outputs": []
    }
  ]
}