{
  "nbformat": 4,
  "nbformat_minor": 0,
  "metadata": {
    "colab": {
      "provenance": [],
      "mount_file_id": "14iDC9tb9GuDqzrsphhbiniP-ASm4bvdo",
      "authorship_tag": "ABX9TyPc4rFA/TysELH/NimbJ7U4",
      "include_colab_link": true
    },
    "kernelspec": {
      "name": "python3",
      "display_name": "Python 3"
    },
    "language_info": {
      "name": "python"
    }
  },
  "cells": [
    {
      "cell_type": "markdown",
      "metadata": {
        "id": "view-in-github",
        "colab_type": "text"
      },
      "source": [
        "<a href=\"https://colab.research.google.com/github/Five-Star-Station/Hansol_QA/blob/main/simso/combine_test_question.ipynb\" target=\"_parent\"><img src=\"https://colab.research.google.com/assets/colab-badge.svg\" alt=\"Open In Colab\"/></a>"
      ]
    },
    {
      "cell_type": "code",
      "source": [
        "import re\n",
        "import random\n",
        "from itertools import combinations\n",
        "\n",
        "import numpy as np\n",
        "import pandas as pd"
      ],
      "metadata": {
        "id": "c7TTPjJUXKee"
      },
      "execution_count": 18,
      "outputs": []
    },
    {
      "cell_type": "code",
      "source": [
        "base_path = '/content/drive/MyDrive/Colab Notebooks/data/dacon-hansol-qa/'\n",
        "train_df = pd.read_csv(base_path + 'train.csv')\n",
        "test_df = pd.read_csv(base_path + 'test.csv')\n",
        "submission_df = pd.read_csv(base_path + 'sample_submission.csv')"
      ],
      "metadata": {
        "id": "LXwJY7JOXZ6G"
      },
      "execution_count": 14,
      "outputs": []
    },
    {
      "cell_type": "code",
      "source": [
        "train_df.category.value_counts().index"
      ],
      "metadata": {
        "colab": {
          "base_uri": "https://localhost:8080/"
        },
        "id": "iS7i-__PQT06",
        "outputId": "653800fe-6556-4f94-9349-8a6476950b9f"
      },
      "execution_count": 106,
      "outputs": [
        {
          "output_type": "execute_result",
          "data": {
            "text/plain": [
              "Index(['마감재', '인테리어', '시공', '마감하자', '건축구조', '기타', '타 마감하자'], dtype='object')"
            ]
          },
          "metadata": {},
          "execution_count": 106
        }
      ]
    },
    {
      "cell_type": "code",
      "source": [
        "categories = ['마감재', '인테리어', '시공', '마감하자', '건축구조', '기타', '타 마감하자']\n",
        "\n",
        "q_combined = []\n",
        "a_combined = []\n",
        "\n",
        "for category in categories:\n",
        "    q_comb = combinations(train_df.loc[train_df.category == category, \"질문_2\"], 2)\n",
        "    a_comb = combinations(train_df.loc[train_df.category == category, \"답변_2\"], 2)\n",
        "\n",
        "    and_word_list = [\"그리고\", \"또한,\"]\n",
        "    for (q1, q2), (a1, a2) in zip(q_comb, a_comb):\n",
        "        and_word = random.choices(and_word_list, [0.6, 0.4], k=1)[0]\n",
        "        # 앞뒤\n",
        "        new_q = \" \".join([q1, and_word, q2])\n",
        "        new_a = \" \".join([a1, a2])\n",
        "        q_combined.append(new_q)\n",
        "        a_combined.append(new_a)\n",
        "        # 뒤앞\n",
        "        new_q = \" \".join([q2, and_word, q1])\n",
        "        new_a = \" \".join([a2, a1])\n",
        "        q_combined.append(new_q)\n",
        "        a_combined.append(new_a)"
      ],
      "metadata": {
        "id": "6Bp-TPmKKNzd"
      },
      "execution_count": 110,
      "outputs": []
    },
    {
      "cell_type": "code",
      "source": [
        "print(len(q_combined), len(a_combined))"
      ],
      "metadata": {
        "colab": {
          "base_uri": "https://localhost:8080/"
        },
        "id": "5wbagnaHKjPE",
        "outputId": "f9d934ae-2ba2-43da-e229-c840e4522758"
      },
      "execution_count": 111,
      "outputs": [
        {
          "output_type": "stream",
          "name": "stdout",
          "text": [
            "106480 106480\n"
          ]
        }
      ]
    },
    {
      "cell_type": "code",
      "source": [
        "df_train_combined = pd.DataFrame({\"question\": q_combined, \"answer\": a_combined})"
      ],
      "metadata": {
        "id": "hT1AGFm_LYmv"
      },
      "execution_count": 112,
      "outputs": []
    },
    {
      "cell_type": "code",
      "source": [
        "df_train_combined.to_csv('/content/train_combined.csv', index=False)"
      ],
      "metadata": {
        "id": "fzc4wBVyNJ_F"
      },
      "execution_count": 113,
      "outputs": []
    },
    {
      "cell_type": "code",
      "source": [
        "df_train_combined.head()"
      ],
      "metadata": {
        "colab": {
          "base_uri": "https://localhost:8080/",
          "height": 206
        },
        "id": "GHFbWzpzOPNe",
        "outputId": "811becfa-b967-4b8e-ed34-8313020a5e48"
      },
      "execution_count": 114,
      "outputs": [
        {
          "output_type": "execute_result",
          "data": {
            "text/plain": [
              "                                            question  \\\n",
              "0     원목마루의 어떤 단점들이 있을까요? 그리고 롱브릭타일은 어떤 특징을 가지고 있나요?   \n",
              "1     롱브릭타일은 어떤 특징을 가지고 있나요? 그리고 원목마루의 어떤 단점들이 있을까요?   \n",
              "2         원목마루의 어떤 단점들이 있을까요? 그리고 카페트의 기대 수명은 얼마나 돼?   \n",
              "3         카페트의 기대 수명은 얼마나 돼? 그리고 원목마루의 어떤 단점들이 있을까요?   \n",
              "4  원목마루의 어떤 단점들이 있을까요? 또한, 평지붕의 단점에 대해서 좀 더 자세히 알...   \n",
              "\n",
              "                                              answer  \n",
              "0  원목마루의 단점 중 하나는 가격이 비싸다는 것입니다. 또한, 원목이 두께가 있어서 ...  \n",
              "1  모노롱브릭타일은 벽돌의 형태를 살리면서도 노출 콘크리트와 비슷한 분위기를 연출할 수...  \n",
              "2  원목마루의 단점 중 하나는 가격이 비싸다는 것입니다. 또한, 원목이 두께가 있어서 ...  \n",
              "3  카페트의 기대수명은 보통 6년입니다. 그러나 이는 카페트의 사용빈도, 관리방법, 카...  \n",
              "4  원목마루의 단점 중 하나는 가격이 비싸다는 것입니다. 또한, 원목이 두께가 있어서 ...  "
            ],
            "text/html": [
              "\n",
              "  <div id=\"df-3cbb5e69-5cca-418c-95d7-4212c7bf0a56\" class=\"colab-df-container\">\n",
              "    <div>\n",
              "<style scoped>\n",
              "    .dataframe tbody tr th:only-of-type {\n",
              "        vertical-align: middle;\n",
              "    }\n",
              "\n",
              "    .dataframe tbody tr th {\n",
              "        vertical-align: top;\n",
              "    }\n",
              "\n",
              "    .dataframe thead th {\n",
              "        text-align: right;\n",
              "    }\n",
              "</style>\n",
              "<table border=\"1\" class=\"dataframe\">\n",
              "  <thead>\n",
              "    <tr style=\"text-align: right;\">\n",
              "      <th></th>\n",
              "      <th>question</th>\n",
              "      <th>answer</th>\n",
              "    </tr>\n",
              "  </thead>\n",
              "  <tbody>\n",
              "    <tr>\n",
              "      <th>0</th>\n",
              "      <td>원목마루의 어떤 단점들이 있을까요? 그리고 롱브릭타일은 어떤 특징을 가지고 있나요?</td>\n",
              "      <td>원목마루의 단점 중 하나는 가격이 비싸다는 것입니다. 또한, 원목이 두께가 있어서 ...</td>\n",
              "    </tr>\n",
              "    <tr>\n",
              "      <th>1</th>\n",
              "      <td>롱브릭타일은 어떤 특징을 가지고 있나요? 그리고 원목마루의 어떤 단점들이 있을까요?</td>\n",
              "      <td>모노롱브릭타일은 벽돌의 형태를 살리면서도 노출 콘크리트와 비슷한 분위기를 연출할 수...</td>\n",
              "    </tr>\n",
              "    <tr>\n",
              "      <th>2</th>\n",
              "      <td>원목마루의 어떤 단점들이 있을까요? 그리고 카페트의 기대 수명은 얼마나 돼?</td>\n",
              "      <td>원목마루의 단점 중 하나는 가격이 비싸다는 것입니다. 또한, 원목이 두께가 있어서 ...</td>\n",
              "    </tr>\n",
              "    <tr>\n",
              "      <th>3</th>\n",
              "      <td>카페트의 기대 수명은 얼마나 돼? 그리고 원목마루의 어떤 단점들이 있을까요?</td>\n",
              "      <td>카페트의 기대수명은 보통 6년입니다. 그러나 이는 카페트의 사용빈도, 관리방법, 카...</td>\n",
              "    </tr>\n",
              "    <tr>\n",
              "      <th>4</th>\n",
              "      <td>원목마루의 어떤 단점들이 있을까요? 또한, 평지붕의 단점에 대해서 좀 더 자세히 알...</td>\n",
              "      <td>원목마루의 단점 중 하나는 가격이 비싸다는 것입니다. 또한, 원목이 두께가 있어서 ...</td>\n",
              "    </tr>\n",
              "  </tbody>\n",
              "</table>\n",
              "</div>\n",
              "    <div class=\"colab-df-buttons\">\n",
              "\n",
              "  <div class=\"colab-df-container\">\n",
              "    <button class=\"colab-df-convert\" onclick=\"convertToInteractive('df-3cbb5e69-5cca-418c-95d7-4212c7bf0a56')\"\n",
              "            title=\"Convert this dataframe to an interactive table.\"\n",
              "            style=\"display:none;\">\n",
              "\n",
              "  <svg xmlns=\"http://www.w3.org/2000/svg\" height=\"24px\" viewBox=\"0 -960 960 960\">\n",
              "    <path d=\"M120-120v-720h720v720H120Zm60-500h600v-160H180v160Zm220 220h160v-160H400v160Zm0 220h160v-160H400v160ZM180-400h160v-160H180v160Zm440 0h160v-160H620v160ZM180-180h160v-160H180v160Zm440 0h160v-160H620v160Z\"/>\n",
              "  </svg>\n",
              "    </button>\n",
              "\n",
              "  <style>\n",
              "    .colab-df-container {\n",
              "      display:flex;\n",
              "      gap: 12px;\n",
              "    }\n",
              "\n",
              "    .colab-df-convert {\n",
              "      background-color: #E8F0FE;\n",
              "      border: none;\n",
              "      border-radius: 50%;\n",
              "      cursor: pointer;\n",
              "      display: none;\n",
              "      fill: #1967D2;\n",
              "      height: 32px;\n",
              "      padding: 0 0 0 0;\n",
              "      width: 32px;\n",
              "    }\n",
              "\n",
              "    .colab-df-convert:hover {\n",
              "      background-color: #E2EBFA;\n",
              "      box-shadow: 0px 1px 2px rgba(60, 64, 67, 0.3), 0px 1px 3px 1px rgba(60, 64, 67, 0.15);\n",
              "      fill: #174EA6;\n",
              "    }\n",
              "\n",
              "    .colab-df-buttons div {\n",
              "      margin-bottom: 4px;\n",
              "    }\n",
              "\n",
              "    [theme=dark] .colab-df-convert {\n",
              "      background-color: #3B4455;\n",
              "      fill: #D2E3FC;\n",
              "    }\n",
              "\n",
              "    [theme=dark] .colab-df-convert:hover {\n",
              "      background-color: #434B5C;\n",
              "      box-shadow: 0px 1px 3px 1px rgba(0, 0, 0, 0.15);\n",
              "      filter: drop-shadow(0px 1px 2px rgba(0, 0, 0, 0.3));\n",
              "      fill: #FFFFFF;\n",
              "    }\n",
              "  </style>\n",
              "\n",
              "    <script>\n",
              "      const buttonEl =\n",
              "        document.querySelector('#df-3cbb5e69-5cca-418c-95d7-4212c7bf0a56 button.colab-df-convert');\n",
              "      buttonEl.style.display =\n",
              "        google.colab.kernel.accessAllowed ? 'block' : 'none';\n",
              "\n",
              "      async function convertToInteractive(key) {\n",
              "        const element = document.querySelector('#df-3cbb5e69-5cca-418c-95d7-4212c7bf0a56');\n",
              "        const dataTable =\n",
              "          await google.colab.kernel.invokeFunction('convertToInteractive',\n",
              "                                                    [key], {});\n",
              "        if (!dataTable) return;\n",
              "\n",
              "        const docLinkHtml = 'Like what you see? Visit the ' +\n",
              "          '<a target=\"_blank\" href=https://colab.research.google.com/notebooks/data_table.ipynb>data table notebook</a>'\n",
              "          + ' to learn more about interactive tables.';\n",
              "        element.innerHTML = '';\n",
              "        dataTable['output_type'] = 'display_data';\n",
              "        await google.colab.output.renderOutput(dataTable, element);\n",
              "        const docLink = document.createElement('div');\n",
              "        docLink.innerHTML = docLinkHtml;\n",
              "        element.appendChild(docLink);\n",
              "      }\n",
              "    </script>\n",
              "  </div>\n",
              "\n",
              "\n",
              "<div id=\"df-d5f9d0f5-a2f1-41bd-9622-7d67fe78066f\">\n",
              "  <button class=\"colab-df-quickchart\" onclick=\"quickchart('df-d5f9d0f5-a2f1-41bd-9622-7d67fe78066f')\"\n",
              "            title=\"Suggest charts\"\n",
              "            style=\"display:none;\">\n",
              "\n",
              "<svg xmlns=\"http://www.w3.org/2000/svg\" height=\"24px\"viewBox=\"0 0 24 24\"\n",
              "     width=\"24px\">\n",
              "    <g>\n",
              "        <path d=\"M19 3H5c-1.1 0-2 .9-2 2v14c0 1.1.9 2 2 2h14c1.1 0 2-.9 2-2V5c0-1.1-.9-2-2-2zM9 17H7v-7h2v7zm4 0h-2V7h2v10zm4 0h-2v-4h2v4z\"/>\n",
              "    </g>\n",
              "</svg>\n",
              "  </button>\n",
              "\n",
              "<style>\n",
              "  .colab-df-quickchart {\n",
              "      --bg-color: #E8F0FE;\n",
              "      --fill-color: #1967D2;\n",
              "      --hover-bg-color: #E2EBFA;\n",
              "      --hover-fill-color: #174EA6;\n",
              "      --disabled-fill-color: #AAA;\n",
              "      --disabled-bg-color: #DDD;\n",
              "  }\n",
              "\n",
              "  [theme=dark] .colab-df-quickchart {\n",
              "      --bg-color: #3B4455;\n",
              "      --fill-color: #D2E3FC;\n",
              "      --hover-bg-color: #434B5C;\n",
              "      --hover-fill-color: #FFFFFF;\n",
              "      --disabled-bg-color: #3B4455;\n",
              "      --disabled-fill-color: #666;\n",
              "  }\n",
              "\n",
              "  .colab-df-quickchart {\n",
              "    background-color: var(--bg-color);\n",
              "    border: none;\n",
              "    border-radius: 50%;\n",
              "    cursor: pointer;\n",
              "    display: none;\n",
              "    fill: var(--fill-color);\n",
              "    height: 32px;\n",
              "    padding: 0;\n",
              "    width: 32px;\n",
              "  }\n",
              "\n",
              "  .colab-df-quickchart:hover {\n",
              "    background-color: var(--hover-bg-color);\n",
              "    box-shadow: 0 1px 2px rgba(60, 64, 67, 0.3), 0 1px 3px 1px rgba(60, 64, 67, 0.15);\n",
              "    fill: var(--button-hover-fill-color);\n",
              "  }\n",
              "\n",
              "  .colab-df-quickchart-complete:disabled,\n",
              "  .colab-df-quickchart-complete:disabled:hover {\n",
              "    background-color: var(--disabled-bg-color);\n",
              "    fill: var(--disabled-fill-color);\n",
              "    box-shadow: none;\n",
              "  }\n",
              "\n",
              "  .colab-df-spinner {\n",
              "    border: 2px solid var(--fill-color);\n",
              "    border-color: transparent;\n",
              "    border-bottom-color: var(--fill-color);\n",
              "    animation:\n",
              "      spin 1s steps(1) infinite;\n",
              "  }\n",
              "\n",
              "  @keyframes spin {\n",
              "    0% {\n",
              "      border-color: transparent;\n",
              "      border-bottom-color: var(--fill-color);\n",
              "      border-left-color: var(--fill-color);\n",
              "    }\n",
              "    20% {\n",
              "      border-color: transparent;\n",
              "      border-left-color: var(--fill-color);\n",
              "      border-top-color: var(--fill-color);\n",
              "    }\n",
              "    30% {\n",
              "      border-color: transparent;\n",
              "      border-left-color: var(--fill-color);\n",
              "      border-top-color: var(--fill-color);\n",
              "      border-right-color: var(--fill-color);\n",
              "    }\n",
              "    40% {\n",
              "      border-color: transparent;\n",
              "      border-right-color: var(--fill-color);\n",
              "      border-top-color: var(--fill-color);\n",
              "    }\n",
              "    60% {\n",
              "      border-color: transparent;\n",
              "      border-right-color: var(--fill-color);\n",
              "    }\n",
              "    80% {\n",
              "      border-color: transparent;\n",
              "      border-right-color: var(--fill-color);\n",
              "      border-bottom-color: var(--fill-color);\n",
              "    }\n",
              "    90% {\n",
              "      border-color: transparent;\n",
              "      border-bottom-color: var(--fill-color);\n",
              "    }\n",
              "  }\n",
              "</style>\n",
              "\n",
              "  <script>\n",
              "    async function quickchart(key) {\n",
              "      const quickchartButtonEl =\n",
              "        document.querySelector('#' + key + ' button');\n",
              "      quickchartButtonEl.disabled = true;  // To prevent multiple clicks.\n",
              "      quickchartButtonEl.classList.add('colab-df-spinner');\n",
              "      try {\n",
              "        const charts = await google.colab.kernel.invokeFunction(\n",
              "            'suggestCharts', [key], {});\n",
              "      } catch (error) {\n",
              "        console.error('Error during call to suggestCharts:', error);\n",
              "      }\n",
              "      quickchartButtonEl.classList.remove('colab-df-spinner');\n",
              "      quickchartButtonEl.classList.add('colab-df-quickchart-complete');\n",
              "    }\n",
              "    (() => {\n",
              "      let quickchartButtonEl =\n",
              "        document.querySelector('#df-d5f9d0f5-a2f1-41bd-9622-7d67fe78066f button');\n",
              "      quickchartButtonEl.style.display =\n",
              "        google.colab.kernel.accessAllowed ? 'block' : 'none';\n",
              "    })();\n",
              "  </script>\n",
              "</div>\n",
              "\n",
              "    </div>\n",
              "  </div>\n"
            ],
            "application/vnd.google.colaboratory.intrinsic+json": {
              "type": "dataframe",
              "variable_name": "df_train_combined"
            }
          },
          "metadata": {},
          "execution_count": 114
        }
      ]
    },
    {
      "cell_type": "code",
      "source": [],
      "metadata": {
        "id": "_8d3qIvmP8HK"
      },
      "execution_count": null,
      "outputs": []
    }
  ]
}