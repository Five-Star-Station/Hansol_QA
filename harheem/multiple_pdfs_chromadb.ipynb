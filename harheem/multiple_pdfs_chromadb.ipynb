{
 "cells": [
  {
   "cell_type": "code",
   "execution_count": 1,
   "metadata": {},
   "outputs": [],
   "source": [
    "import os\n",
    "from langchain.embeddings.huggingface import HuggingFaceEmbeddings"
   ]
  },
  {
   "cell_type": "code",
   "execution_count": 2,
   "metadata": {},
   "outputs": [],
   "source": [
    "from langchain.document_loaders import PDFPlumberLoader\n",
    "from langchain.text_splitter import CharacterTextSplitter\n",
    "from langchain.vectorstores import Chroma\n",
    "import chromadb"
   ]
  },
  {
   "cell_type": "code",
   "execution_count": 16,
   "metadata": {},
   "outputs": [],
   "source": [
    "def load_chunk_persist_pdf() -> Chroma:\n",
    "    pdf_folder_path = \"data/\"\n",
    "    documents = []\n",
    "    for file in os.listdir(pdf_folder_path):\n",
    "        if file.endswith('.pdf'):\n",
    "            pdf_path = os.path.join(pdf_folder_path, file)\n",
    "            loader = PDFPlumberLoader(pdf_path)\n",
    "            documents.extend(loader.load())\n",
    "    text_splitter = CharacterTextSplitter(chunk_size=1000, chunk_overlap=300)\n",
    "    chunked_documents = text_splitter.split_documents(documents)\n",
    "    client = chromadb.Client()\n",
    "    if client.list_collections():\n",
    "        consent_collection = client.create_collection(\"consent_collection\")\n",
    "    else:\n",
    "        print(\"Collection already exists\")\n",
    "    vectordb = Chroma.from_documents(\n",
    "        documents=chunked_documents,\n",
    "        embedding=HuggingFaceEmbeddings(model_name='sentence-transformers/all-mpnet-base-v2'),\n",
    "        persist_directory=\"chroma_store/\"\n",
    "    )\n",
    "    vectordb.persist()\n",
    "    return vectordb"
   ]
  },
  {
   "cell_type": "code",
   "execution_count": 17,
   "metadata": {},
   "outputs": [
    {
     "name": "stdout",
     "output_type": "stream",
     "text": [
      "Collection already exists\n"
     ]
    }
   ],
   "source": [
    "vectordb = load_chunk_persist_pdf()"
   ]
  },
  {
   "cell_type": "code",
   "execution_count": 18,
   "metadata": {},
   "outputs": [
    {
     "name": "stdout",
     "output_type": "stream",
     "text": [
      "3236\n"
     ]
    }
   ],
   "source": [
    "vectordb = Chroma(persist_directory=\"chroma_store/\", embedding_function=HuggingFaceEmbeddings(model_name='sentence-transformers/all-mpnet-base-v2'))\n",
    "print(vectordb._collection.count())"
   ]
  },
  {
   "cell_type": "code",
   "execution_count": 21,
   "metadata": {},
   "outputs": [
    {
     "data": {
      "text/plain": [
       "[Document(page_content='승승화화성성잉잉크크는는상상온온에에서서도도전전사사((転転写写))됨됨\\n충충전전물물((완완충충재재))로로서서사사용용되되면면시시간간의의경경과과와와함함께께상상품품\\n((가가방방이이나나구구두두등등))에에전전사사', metadata={'Author': 'LKH', 'CreationDate': \"D:20151026170221+09'00'\", 'Creator': 'Hancom PDF 1.3.0.460', 'ModDate': \"D:20151026170221+09'00'\", 'PDFVersion': '1.4', 'Producer': 'Hancom PDF 1.3.0.460', 'Title': 'Microsoft PowerPoint - 벽지반점_조사연구_내화건축자재협회_최종_20151026.pptx', 'file_path': 'data/Wallpaper Survey.pdf', 'page': 22, 'source': 'data/Wallpaper Survey.pdf', 'total_pages': 84}),\n",
       " Document(page_content='한 일이라고 판단된다. 또한 본 연구에서 상세히 다루지 않은 설계 및 계획단\\n계에서의 하자발생에 대한 세부적이고 전문적인 연구가 추후 계속 되어야 할\\n것으로 사료된다.\\n- 51 -', metadata={'Author': 'Administrator', 'CreationDate': 'D:20050924160932Z', 'Creator': 'PScript5.dll Version 5.2', 'ModDate': \"D:20050924164531+09'00'\", 'Producer': 'COXPDF 3.0', 'Title': 'Microsoft Word - 001.doc', 'file_path': 'data/001 Feb .pdf', 'page': 59, 'source': 'data/001 Feb .pdf', 'total_pages': 64}),\n",
       " Document(page_content='강에 악영향을 주고 있다.또한 이러한 세대 내부 결로 하자는 건설사에게\\n하자보수 비용 및 피해보상비의 증가로 이어지며 나아가 수주 활동 및 건설\\n사 신뢰도 하락에도 큰 영향을 준다.그러므로 단열재 시공 불량으로 발생하\\n는 결로를 방지하기 위한 단열재 시공 개선안이 제시 되어야 한다.\\n본 연구에서는 L사의 공동주택현장 하자보수팀이 실시한 세대 내부 결로\\n하자 보수현황을 조사하여 결로하자를 유형별로 나누어 발생원인과 하자 보\\n수방법을 분석하였다.분석한 결과를 기초로 하여 세대 내부 단열재 시공불\\n량발생 원인을 찾아 세대 내부 결로 방지를 위한 단열재 시공 개선방안을 제\\n시하였다.결로하자 보수 후 결로 재발생 여부를 하자유형별로 조사하여 본\\n연구에서 제시한 단열재 시공 개선안에 대한 보다 객관적인 자료를 제시하여\\n본 연구에 대한 검증을 하였다.\\n이렇게 제시된 단열재 시공 개선방안은 세대 내부 단열재 시공불량을 감소\\n- i -', metadata={'CreationDate': \"D:20080820165432+09'00'\", 'Creator': 'ezPDF Builder 2006', 'ModDate': \"D:20080821135700+09'00'\", 'Producer': 'ezPDF Builder 2006', 'file_path': 'data/200000239803_20240223155016.pdf', 'page': 4, 'source': 'data/200000239803_20240223155016.pdf', 'total_pages': 87}),\n",
       " Document(page_content='를 제외하고 시공 및 유지관리 측면에서 입주자가 직접 불편을 느끼는 결함과\\n하자를 연구범위로 하였다.\\n- 3 -', metadata={'Author': '김종태', 'CreationDate': 'D:20050118123859Z', 'Creator': 'PScript5.dll Version 5.2', 'ModDate': \"D:20050910012210+09'00'\", 'Producer': 'Acrobat Distiller with ezUniHFT', 'Title': '공동주택 건축공사의 하자유형과 대책에 관한 연구', 'TocEmbedded': '1', 'count': '87', 'date': '200502', 'dm': '석사', 'file_path': 'data/Study on Defect Types and Countermeasures.pdf', 'id': 'KDMT1200538438', 'page': 11, 'school': '영남대 산업대학원', 'source': 'data/Study on Defect Types and Countermeasures.pdf', 'startpage': '10', 'total_pages': 87})]"
      ]
     },
     "execution_count": 21,
     "metadata": {},
     "output_type": "execute_result"
    }
   ],
   "source": [
    "matching_docs = vectordb.similarity_search(\"곰팡이가 발생하면 어떤 문제가 생겨?\")\n",
    "matching_docs"
   ]
  },
  {
   "cell_type": "code",
   "execution_count": 23,
   "metadata": {},
   "outputs": [
    {
     "data": {
      "text/plain": [
       "[Document(page_content='또한 높았다. 즉, 타일공사 하자 유형 중 관련 하자가 적으나 한 번 하자가 발생하면 처리 후에도 지속적으로 재발하며 보수\\n자체도 어려운 하자로, 타일 자재 및 시공 자체의 문제보다 시공 부위 하중 집중 현상, 바탕 구조체의 이상 변위, 콘크리트 바\\n탕 균열 등 설계 및 타 공종에 의한 영향이 하자의 주요 원인인 것으로 분석되었다. 이에 설계 시 구조체의 이상 변위와 시공\\n부위 하중 집중 현상을 사전에 예방할 필요가 있으며, 시공 단계에서 타 공종 작업 시 변형 방지를 위한 조치 방안 실시, 하중\\n에 대응할 수 있는 탄성 접착제 사용하고 시공 후 보양 철저 등의 하자 저감 대책이 요구된다.\\n‘오염 및 이색(e)’은 타 유형에 비해 하자 발생빈도, 하자 보수 후 재발 가능성, 하자 보수의 어려움 정도 모두 낮았다. 줄눈\\n건조 전 오염물질 혼입, 오염된 공구 또는 작업장, 불량 자재 사용 등의 원인으로 발생하는 하자로써, 시공 단계에서 작업장\\n청결 유지, 고온다습한 조건에서 시공 지양, 자재검수 및 시공교육 등의 대책과 유지 관리 단계에서 공동주택 거주자의 주의\\n를 필요로 하지만, 추가적인 자원 배분 및 집중 관리가 아닌 중장기적인 개선 계획이 요구되며, 하자 저감을 위한 과잉노력을\\n지양하고, 해당 하자에 투입되는 노력을 개선이 시급한 다른 유형에 집중할 필요가 있는 것으로 분석되었다.\\n6. 결 론\\n본 연구는 타일공사의 하자 데이터를 바탕으로 정량적 지표를 산출한 후, 전문가 의견이 반영된 AHP 분석 결과를 통해 5\\n개의 타일공사 하자 유형에 대한 정성적 지표의 가중치를 산정하여 하자 유형을 분석하였으며, 도출된 결론은 다음과 같다.\\n첫째, 수집한 타일공사의 하자 데이터를 분류한 후, 정량적인 지표인 하자 발생빈도를 분석하였다. 타일공사의 하자는 주\\n로 욕실에서 발생하며, ‘균열 및 파손’, ‘ 줄눈불량’, ‘구배불량’이 하자 발생빈도가 높은 것으로 나타났다.', metadata={'CreationDate': \"D:20220215095055+09'00'\", 'Creator': 'Adobe InDesign CS6 (Windows)', 'ModDate': \"D:20220215095057+09'00'\", 'Producer': 'Adobe PDF Library 10.0.1', 'file_path': 'data/GCSGBX 2021 v21n6.pdf', 'page': 9, 'source': 'data/GCSGBX 2021 v21n6.pdf', 'total_pages': 12}),\n",
       " Document(page_content='석될 것이다.\\n하자보수책임기간 내에 발생한 하자를 보수할 의무가 있다면 하자보수책임기\\n간이 시작되기도 전에 발생한 하자에 대하여는 더욱 보수할 의무가 있다고 해\\n석해야 할 것이다. 그것이 입법자의 의사, 하자의 개념에 대한 법의 체계, 사\\n회 일반의 상식에도 부합하는 해석이라고 할 것이다.\\n(3) 공동주택 하자 보수절차\\n1) 사업주체의 하자보수\\n공동주택등의 하자가 발생한 때에는 입주자ㆍ입주자대표회의2) 또는 관리주\\n체 또는 「집합건물의 소유 및 관리에 관한 법률」에 의하여 구성된 관리단(이\\n하 “입주자 대표회의 등”이라 한다)는 사업주체에 대하여 그 하자의 보수를\\n요구할 수 있으며, 사업주체는 [그림2-1]과 같이 3일 이내에 이를 보수하거나\\n보수일정을 명시한 하자보수계획을 입주자대표회의 등에 통보 할 것을 명시하\\n고 있다.3)\\n2) 주택법시행령 제50조 제1항에 의거 동별세대수에 비례하여 선출된 대표자(이하‘동\\n별대표자’라 한다)로 구성한다.', metadata={'Author': 'Administrator', 'CreationDate': 'D:20050924160932Z', 'Creator': 'PScript5.dll Version 5.2', 'ModDate': \"D:20050924164531+09'00'\", 'Producer': 'COXPDF 3.0', 'Title': 'Microsoft Word - 001.doc', 'file_path': 'data/001 Feb .pdf', 'page': 16, 'source': 'data/001 Feb .pdf', 'total_pages': 64}),\n",
       " Document(page_content='는 접지불량 및 결선불량, 고사 및 입상불량 등으로 건축물 또는 시설물 등의 기능상·미관상 또는\\n안전상 지장을 초래할 정도의 하자’라고 규정하고 있으므로, 결국 보증대상이 되는 하자는 미시공,\\n변경시공 그 자체가 아니라, ‘공사상의 잘못으로 인하여 건축물 또는 시설물 등의 기능상·미관상 또\\n는 안전상 지장을 초래할 수 있는 균열·처짐 등의 현상이 발생한 것’을 의미한다고 보아야 할 것이\\n고, 그 공사상의 잘못이 미시공이나 변경시공이라 할지라도 달리 볼 것은 아니라 할 것이어서, 비\\n록 미시공이나 변경시공으로 인하여 건축물 자체에 위와 같은 균열 등이 발생할 가능성이 내재되어\\n있었다고 할지라도 그 자체만으로 보증대상이 되는 하자가 사용검사 이전에 발생한 것이라고 볼 것\\n은 아니라 할 것이며, 그와 같은 균열 등이 실제로 나타나서 기능상·미관상 또는 안전상 지장을 초\\n래하게 되었을 때 하자가 발생하였다고 보아야 할 것이고, 한편, 그 보증대상이 되는 하자가 되기\\n위해서는 보증계약에서 정한 보증기간 동안에 발생한 하자로서 사용검사일 이후에 발생한 하자이어\\n야 하므로, 공사상의 잘못으로 주택의 기능상·미관상 또는 안전상 지장을 초래하는 균열 등이 사용\\n검사 후에 비로소 나타나야만 한다 할 것이고, 사용검사 이전에 나타난 균열 등은 그 상태가 사용\\n검사 이후까지 지속되어 주택의 기능상·미관상 또는 안전상 지장을 초래한다 할지라도 이는 위 의\\n무하자보수보증계약의 보증대상이 되지 못한다.”고 판시하였다. 유사 판례는, 대법원 2002. 2. 8.\\n선고 99다69660 판결 ; 2009. 2. 26. 선고 2007다83908 판결 ; 대법원 2009. 3. 12. 선고 2008\\n다15988 판결\\n100) 윤재윤, 앞의 저서, 343면\\n- 88 -', metadata={'CreationDate': \"D:20130320100209+09'00'\", 'Creator': 'ezPDF Builder 2006', 'ModDate': \"D:20130320100209+09'00'\", 'Producer': 'ezPDF Builder 2006', 'file_path': 'data/200000188443 Feb 23.pdf', 'page': 103, 'source': 'data/200000188443 Feb 23.pdf', 'total_pages': 131}),\n",
       " Document(page_content='다.최근 건축되는 공동주택은 단열성능 향상과 외부창호의 밀폐력 강화와\\n함께 건물의 자체 통풍이 이루어지지 않아 실내에 많은 양의 습기가 정체되\\n어 있으며,또한 입주 초기 콘크리트 구조체에서 발생하는 습기량 또한 상당\\n하다.이러한 상황에서 단열재 시공불량으로 발생한 결손부위는 찬 공기의\\n유입으로 이어져 세대 내부 마감재와 입주민의 가구 등에 결로가 발생하게\\n하며,또한 인체에 좋지 않은 곰팡가 발생하는 하자등을 발생시켜 입주민의\\n민원이 증가하고 있는 실정이다.이와 같이 세대 내부 결로가 발생 할 수 있\\n는 원인 중 하나인 단열재 시공불량의 발생을 방지하기 위해 세대 내부 결로\\n하자 유형에 대하여 사례를 조사,분석하였다.하자 사례는 아래와 같이 크게\\n세가지로 분류 하였다.\\n(1)세대 내부 외기에 면한 벽면 결로하자\\n(2)세대 내부 최상층 천정 결로하자\\n(3)세대 내부 환기덕트와 파이프덕트 조적벽에 면한 벽면 결로하자\\n(1)세대 내부 외기에 면한 벽면 결로하자\\n세대 내부 외기에 면한 벽면 중 발코니와 같이 절충 공간이 있는 부위는\\n결로 발생이 거의 일어나지 않으며 대부분의 결로 발생은 외기와 직접 닿는\\n외벽에서 많이 발생하고 있다.위 사항은 최근 건축되고 있는 확장형 발코니\\n외부창호 주위의 단열시공 부위와 동일하게 보아도 된다.외기에 바로 노출\\n되는 세대 내부 측벽의 경우 단열재의 작은 결손 부위만 있어도 찬 공기의\\n유입으로 석고보드 및 도배지 면의 표면온도를 낮추는 결과를 초래하게 되는\\n것이다.위와 같이 표면온도가 낮아지면,그 표면에 공기 중에 포함되어 있는\\n습기가 물방울로 변하여 맺이는 결로현상이 발생한다.결로 현상으로 인하여\\n도배지에 곰팡이 발생과 동시에 실내의 쾌적한 환경을 유지할 수 없게 되어\\n입주민들의 생활에 큰 피해를 초래하게 된다.또한 전화기 단자함 결로의 경\\n우는 감전으로 거주자의 생명 까지도 위협하게 된다.다음 그림은 세대 내부\\n외기에 면한 벽면 결로 하자 사례들이다.\\n- 38 -', metadata={'CreationDate': \"D:20080820165432+09'00'\", 'Creator': 'ezPDF Builder 2006', 'ModDate': \"D:20080821135700+09'00'\", 'Producer': 'ezPDF Builder 2006', 'file_path': 'data/200000239803_20240223155016.pdf', 'page': 51, 'source': 'data/200000239803_20240223155016.pdf', 'total_pages': 87})]"
      ]
     },
     "execution_count": 23,
     "metadata": {},
     "output_type": "execute_result"
    }
   ],
   "source": [
    "matching_docs = vectordb.similarity_search(\"도배지에 곰팡이가 생겼을 때 높은 습도가 원인인 경우, 습기 관리는 어떻게 해야 할까요?\")\n",
    "matching_docs"
   ]
  },
  {
   "cell_type": "code",
   "execution_count": 24,
   "metadata": {},
   "outputs": [
    {
     "data": {
      "text/plain": [
       "[Document(page_content='한 일이라고 판단된다. 또한 본 연구에서 상세히 다루지 않은 설계 및 계획단\\n계에서의 하자발생에 대한 세부적이고 전문적인 연구가 추후 계속 되어야 할\\n것으로 사료된다.\\n- 51 -', metadata={'Author': 'Administrator', 'CreationDate': 'D:20050924160932Z', 'Creator': 'PScript5.dll Version 5.2', 'ModDate': \"D:20050924164531+09'00'\", 'Producer': 'COXPDF 3.0', 'Title': 'Microsoft Word - 001.doc', 'file_path': 'data/001 Feb .pdf', 'page': 59, 'source': 'data/001 Feb .pdf', 'total_pages': 64}),\n",
       " Document(page_content='수 있다. 이는 우리나라가 갖고 있는 사회적 여건을 그대로 반영하는 것으로서\\n노인계층의 인구비율 증가는 주거문제에 있어서 노인계층의 수요에 대한 대응이\\n중요하게 부각될 것으로 예상된다. 특히, 인구구조의 변동과 더불어 전통적인 가족구\\n성의 해체로 인한 핵가족화 및 노인부양 인력의 감소, 노인들의 의식 변화에 따른\\n독립적 생활선호 등으로 인해 노인 독신가구 및 부부가구가 증가하고 있다. 노인들의\\n의식변화는 노후에 자녀와 동거하면서 경제적으로 의존한다는 생각으로부터 별거하\\n면서 경제적으로 의존하지 않으려는 방향으로 변하고 있어 자녀들과 동거하는 노인\\n의 비율이 크게 감소하고 있다. 이러한 추세는 앞으로 더욱 심화될 것으로 전망되며,\\n노인 단독가구의 비율이 점차 증가하고 있다.40) 실제로 2010년 통계청 장래가구추계\\n39) 추선경, 브랜드아파트의단위평면변화와특성에관한연구, 서울과학기술대학원석사학위, p.27, 2011.', metadata={'CreationDate': \"D:20080820165432+09'00'\", 'Creator': 'ezPDF Builder 2006', 'ModDate': \"D:20080821135700+09'00'\", 'Producer': 'ezPDF Builder 2006', 'file_path': 'data/Yonsei.pdf', 'page': 41, 'source': 'data/Yonsei.pdf', 'total_pages': 88}),\n",
       " Document(page_content='위생의 하자보다 더 많이 나타나는 것으로 조사되었다. 하자의 내용은 누수,\\n파손, 연결불량 등이 있으며, 배수구의 역류현상도 일부 조사되었다.\\n- 21 -', metadata={'Author': '김종태', 'CreationDate': 'D:20050118123859Z', 'Creator': 'PScript5.dll Version 5.2', 'ModDate': \"D:20050910012210+09'00'\", 'Producer': 'Acrobat Distiller with ezUniHFT', 'Title': '공동주택 건축공사의 하자유형과 대책에 관한 연구', 'TocEmbedded': '1', 'count': '87', 'date': '200502', 'dm': '석사', 'file_path': 'data/Study on Defect Types and Countermeasures.pdf', 'id': 'KDMT1200538438', 'page': 29, 'school': '영남대 산업대학원', 'source': 'data/Study on Defect Types and Countermeasures.pdf', 'startpage': '10', 'total_pages': 87}),\n",
       " Document(page_content='점차 작아지게 구성한다.\\n내부결로 ㆍ구조체의 재료구성이 효과적으로 배열되지 못한 경우에는\\n방습층을 내부쪽에 설치한다.\\nㆍ단열재의 위치를 방습층보다 내부쪽에 두지 않도록 한다.\\nㆍ외부 표면은 방수 처리를 하더라도 내부의 수증기가\\n밖으로 배출될 수 있도록 한다.\\n- 29 -', metadata={'CreationDate': \"D:20080820165432+09'00'\", 'Creator': 'ezPDF Builder 2006', 'ModDate': \"D:20080821135700+09'00'\", 'Producer': 'ezPDF Builder 2006', 'file_path': 'data/200000239803_20240223155016.pdf', 'page': 42, 'source': 'data/200000239803_20240223155016.pdf', 'total_pages': 87})]"
      ]
     },
     "execution_count": 24,
     "metadata": {},
     "output_type": "execute_result"
    }
   ],
   "source": [
    "matching_docs = vectordb.similarity_search(\"새집증후군의 주요 원인은 무엇인가요?\")\n",
    "matching_docs"
   ]
  },
  {
   "cell_type": "code",
   "execution_count": 25,
   "metadata": {},
   "outputs": [
    {
     "data": {
      "text/plain": [
       "[Document(page_content='협잡물용해시험(아세톤용액사용) 협잡물용해시험\\n석고보드원지협잡물\\n현장에서채취한시료의협잡물이아세톤용액분무후즉시용해되고확산용출됨', metadata={'Author': 'LKH', 'CreationDate': \"D:20151026170221+09'00'\", 'Creator': 'Hancom PDF 1.3.0.460', 'ModDate': \"D:20151026170221+09'00'\", 'PDFVersion': '1.4', 'Producer': 'Hancom PDF 1.3.0.460', 'Title': 'Microsoft PowerPoint - 벽지반점_조사연구_내화건축자재협회_최종_20151026.pptx', 'file_path': 'data/Wallpaper Survey.pdf', 'page': 25, 'source': 'data/Wallpaper Survey.pdf', 'total_pages': 84}),\n",
       " Document(page_content='협잡물용해시험(아세톤용액사용) 협잡물용해시험\\n석고보드원지협잡물\\n현장에서채취한시료의협잡물이아세톤용액분무후즉시용해되고확산용출됨', metadata={'Author': 'LKH', 'CreationDate': \"D:20151026170221+09'00'\", 'Creator': 'Hancom PDF 1.3.0.460', 'ModDate': \"D:20151026170221+09'00'\", 'PDFVersion': '1.4', 'Producer': 'Hancom PDF 1.3.0.460', 'Title': 'Microsoft PowerPoint - 벽지반점_조사연구_내화건축자재협회_최종_20151026.pptx', 'file_path': 'data/Wallpaper Survey.pdf', 'page': 25, 'source': 'data/Wallpaper Survey.pdf', 'total_pages': 84}),\n",
       " Document(page_content='협잡물용해시험(아세톤용액사용) 협잡물용해시험\\n석고보드원지협잡물\\n현장에서채취한시료의협잡물이아세톤용액분무후즉시용해되고확산용출됨', metadata={'Author': 'LKH', 'CreationDate': \"D:20151026170221+09'00'\", 'Creator': 'Hancom PDF 1.3.0.460', 'ModDate': \"D:20151026170221+09'00'\", 'PDFVersion': '1.4', 'Producer': 'Hancom PDF 1.3.0.460', 'Title': 'Microsoft PowerPoint - 벽지반점_조사연구_내화건축자재협회_최종_20151026.pptx', 'file_path': 'data/Wallpaper Survey.pdf', 'page': 25, 'source': 'data/Wallpaper Survey.pdf', 'total_pages': 84}),\n",
       " Document(page_content='도배지협잡물이염현상시험\\n도배지반점\\n도배지에발생된반점의이염현상을확인하고자용제를분무후\\n상부에도배지를부착한결과기존의반점이상부벽지로이염되어\\n반점으로나타나고하부석고보드원지에는이염되지않음', metadata={'Author': 'LKH', 'CreationDate': \"D:20151026170221+09'00'\", 'Creator': 'Hancom PDF 1.3.0.460', 'ModDate': \"D:20151026170221+09'00'\", 'PDFVersion': '1.4', 'Producer': 'Hancom PDF 1.3.0.460', 'Title': 'Microsoft PowerPoint - 벽지반점_조사연구_내화건축자재협회_최종_20151026.pptx', 'file_path': 'data/Wallpaper Survey.pdf', 'page': 28, 'source': 'data/Wallpaper Survey.pdf', 'total_pages': 84})]"
      ]
     },
     "execution_count": 25,
     "metadata": {},
     "output_type": "execute_result"
    }
   ],
   "source": [
    "matching_docs = vectordb.similarity_search(\"도배지에 생긴 반점을 없애기 위해 가장 효과적인 방법은 무엇인가요?\")\n",
    "matching_docs"
   ]
  },
  {
   "cell_type": "code",
   "execution_count": null,
   "metadata": {},
   "outputs": [],
   "source": []
  }
 ],
 "metadata": {
  "kernelspec": {
   "display_name": "rag_tutorial-6Ll4mVWC",
   "language": "python",
   "name": "python3"
  },
  "language_info": {
   "codemirror_mode": {
    "name": "ipython",
    "version": 3
   },
   "file_extension": ".py",
   "mimetype": "text/x-python",
   "name": "python",
   "nbconvert_exporter": "python",
   "pygments_lexer": "ipython3",
   "version": "3.9.18"
  },
  "orig_nbformat": 4,
  "vscode": {
   "interpreter": {
    "hash": "be9e1ec8781a62de73b42d58daae4f46e0fbde392f59043e829a64398ce230bf"
   }
  }
 },
 "nbformat": 4,
 "nbformat_minor": 2
}
